{
 "cells": [
  {
   "cell_type": "code",
   "id": "initial_id",
   "metadata": {
    "collapsed": true,
    "ExecuteTime": {
     "end_time": "2025-01-29T16:49:05.738524Z",
     "start_time": "2025-01-29T16:49:05.732896Z"
    }
   },
   "source": [
    "import sys\n",
    "import pandas as pd\n",
    "sys.path.append(\"../airflow/plugins\")\n",
    "from db_connection import DbConnection\n",
    "from domain_model import Instrument, Interval\n",
    "from portfolio import Portfolio"
   ],
   "outputs": [],
   "execution_count": 18
  },
  {
   "metadata": {
    "ExecuteTime": {
     "end_time": "2025-01-29T16:49:05.742057Z",
     "start_time": "2025-01-29T16:49:05.738524Z"
    }
   },
   "cell_type": "code",
   "source": [
    "db_connection = DbConnection.local_db_connection()\n",
    "instrument = Instrument.get_instrument(\"SBER\")\n",
    "interval = Interval.min_10\n",
    "portfolio = Portfolio(db_connection, instrument, interval)"
   ],
   "id": "3301e46a26455a71",
   "outputs": [],
   "execution_count": 19
  },
  {
   "metadata": {
    "ExecuteTime": {
     "end_time": "2025-01-29T16:49:05.808861Z",
     "start_time": "2025-01-29T16:49:05.742057Z"
    }
   },
   "cell_type": "code",
   "source": [
    "yield_df = portfolio.get_yield(initial_balance=100000)\n",
    "yield_df"
   ],
   "id": "638fd13d56a2a179",
   "outputs": [
    {
     "data": {
      "text/plain": [
       "                           yield  yield_with_commission\n",
       "time_utc                                               \n",
       "2024-12-25 07:00:00+00:00  0.000              -0.013118\n",
       "2024-12-25 07:10:00+00:00 -0.073              -0.112428\n",
       "2024-12-25 07:30:00+00:00  0.013              -0.052825\n",
       "2024-12-25 08:10:00+00:00  0.054              -0.038180\n",
       "2024-12-25 08:20:00+00:00  0.149               0.030370\n",
       "...                          ...                    ...\n",
       "2025-01-29 14:10:00+00:00  1.796             -16.516897\n",
       "2025-01-29 14:30:00+00:00  1.901             -16.440007\n",
       "2025-01-29 14:50:00+00:00  1.926             -16.443142\n",
       "2025-01-29 15:20:00+00:00  1.908             -16.489271\n",
       "2025-01-29 16:00:00+00:00  1.979             -16.446471\n",
       "\n",
       "[665 rows x 2 columns]"
      ],
      "text/html": [
       "<div>\n",
       "<style scoped>\n",
       "    .dataframe tbody tr th:only-of-type {\n",
       "        vertical-align: middle;\n",
       "    }\n",
       "\n",
       "    .dataframe tbody tr th {\n",
       "        vertical-align: top;\n",
       "    }\n",
       "\n",
       "    .dataframe thead th {\n",
       "        text-align: right;\n",
       "    }\n",
       "</style>\n",
       "<table border=\"1\" class=\"dataframe\">\n",
       "  <thead>\n",
       "    <tr style=\"text-align: right;\">\n",
       "      <th></th>\n",
       "      <th>yield</th>\n",
       "      <th>yield_with_commission</th>\n",
       "    </tr>\n",
       "    <tr>\n",
       "      <th>time_utc</th>\n",
       "      <th></th>\n",
       "      <th></th>\n",
       "    </tr>\n",
       "  </thead>\n",
       "  <tbody>\n",
       "    <tr>\n",
       "      <th>2024-12-25 07:00:00+00:00</th>\n",
       "      <td>0.000</td>\n",
       "      <td>-0.013118</td>\n",
       "    </tr>\n",
       "    <tr>\n",
       "      <th>2024-12-25 07:10:00+00:00</th>\n",
       "      <td>-0.073</td>\n",
       "      <td>-0.112428</td>\n",
       "    </tr>\n",
       "    <tr>\n",
       "      <th>2024-12-25 07:30:00+00:00</th>\n",
       "      <td>0.013</td>\n",
       "      <td>-0.052825</td>\n",
       "    </tr>\n",
       "    <tr>\n",
       "      <th>2024-12-25 08:10:00+00:00</th>\n",
       "      <td>0.054</td>\n",
       "      <td>-0.038180</td>\n",
       "    </tr>\n",
       "    <tr>\n",
       "      <th>2024-12-25 08:20:00+00:00</th>\n",
       "      <td>0.149</td>\n",
       "      <td>0.030370</td>\n",
       "    </tr>\n",
       "    <tr>\n",
       "      <th>...</th>\n",
       "      <td>...</td>\n",
       "      <td>...</td>\n",
       "    </tr>\n",
       "    <tr>\n",
       "      <th>2025-01-29 14:10:00+00:00</th>\n",
       "      <td>1.796</td>\n",
       "      <td>-16.516897</td>\n",
       "    </tr>\n",
       "    <tr>\n",
       "      <th>2025-01-29 14:30:00+00:00</th>\n",
       "      <td>1.901</td>\n",
       "      <td>-16.440007</td>\n",
       "    </tr>\n",
       "    <tr>\n",
       "      <th>2025-01-29 14:50:00+00:00</th>\n",
       "      <td>1.926</td>\n",
       "      <td>-16.443142</td>\n",
       "    </tr>\n",
       "    <tr>\n",
       "      <th>2025-01-29 15:20:00+00:00</th>\n",
       "      <td>1.908</td>\n",
       "      <td>-16.489271</td>\n",
       "    </tr>\n",
       "    <tr>\n",
       "      <th>2025-01-29 16:00:00+00:00</th>\n",
       "      <td>1.979</td>\n",
       "      <td>-16.446471</td>\n",
       "    </tr>\n",
       "  </tbody>\n",
       "</table>\n",
       "<p>665 rows × 2 columns</p>\n",
       "</div>"
      ]
     },
     "execution_count": 20,
     "metadata": {},
     "output_type": "execute_result"
    }
   ],
   "execution_count": 20
  },
  {
   "metadata": {
    "ExecuteTime": {
     "end_time": "2025-01-29T16:49:05.813552Z",
     "start_time": "2025-01-29T16:49:05.808861Z"
    }
   },
   "cell_type": "code",
   "source": [
    "\n",
    "yield_df['date_only'] = yield_df.index.date\n",
    "date_only = yield_df['date_only'].unique()\n",
    "num_days = len(date_only)\n",
    "num_days"
   ],
   "id": "9bc51801cbec55fa",
   "outputs": [
    {
     "data": {
      "text/plain": [
       "23"
      ]
     },
     "execution_count": 21,
     "metadata": {},
     "output_type": "execute_result"
    }
   ],
   "execution_count": 21
  },
  {
   "metadata": {
    "ExecuteTime": {
     "end_time": "2025-01-29T16:49:05.816779Z",
     "start_time": "2025-01-29T16:49:05.813552Z"
    }
   },
   "cell_type": "code",
   "source": [
    "avg_yield = yield_df['yield'].mean()\n",
    "daily_yield = avg_yield / num_days\n",
    "annual_yield =  daily_yield * 248\n",
    "print(f'Annual yield:{annual_yield}')"
   ],
   "id": "e620a96abe50c74f",
   "outputs": [
    {
     "name": "stdout",
     "output_type": "stream",
     "text": [
      "Annual yield:18.230245701210226\n"
     ]
    }
   ],
   "execution_count": 22
  },
  {
   "metadata": {
    "ExecuteTime": {
     "end_time": "2025-01-29T16:49:05.916608Z",
     "start_time": "2025-01-29T16:49:05.816779Z"
    }
   },
   "cell_type": "code",
   "source": [
    "#yield_df['yield'].plot()\n",
    "yield_df.plot()"
   ],
   "id": "9843e512673cc96b",
   "outputs": [
    {
     "data": {
      "text/plain": [
       "<Axes: xlabel='time_utc'>"
      ]
     },
     "execution_count": 23,
     "metadata": {},
     "output_type": "execute_result"
    },
    {
     "data": {
      "text/plain": [
       "<Figure size 640x480 with 1 Axes>"
      ],
      "image/png": "[encoded data removed]"
     },
     "metadata": {},
     "output_type": "display_data"
    }
   ],
   "execution_count": 23
  },
  {
   "metadata": {
    "ExecuteTime": {
     "end_time": "2025-01-29T16:49:05.952709Z",
     "start_time": "2025-01-29T16:49:05.917614Z"
    }
   },
   "cell_type": "code",
   "source": [
    "operations_df = portfolio._get_operations(grouped=False)\n",
    "operations_df"
   ],
   "id": "c241c3d81af192de",
   "outputs": [
    {
     "data": {
      "text/plain": [
       "                            price  quantity  commission\n",
       "time_utc                                               \n",
       "2024-12-25 07:00:00+00:00    0.00         0    -13.1185\n",
       "2024-12-25 07:00:00+00:00  262.37      -100      0.0000\n",
       "2024-12-25 07:10:00+00:00    0.00         0    -26.3100\n",
       "2024-12-25 07:10:00+00:00  263.10       200     -0.0000\n",
       "2024-12-25 07:30:00+00:00  263.96      -200      0.0000\n",
       "...                           ...       ...         ...\n",
       "2025-01-29 14:50:00+00:00  281.35       200     -0.0000\n",
       "2025-01-29 15:20:00+00:00  281.29      -200      0.0000\n",
       "2025-01-29 15:20:00+00:00    0.00         0    -28.1290\n",
       "2025-01-29 16:00:00+00:00    0.00         0    -28.2000\n",
       "2025-01-29 16:00:00+00:00  282.00       200     -0.0000\n",
       "\n",
       "[1330 rows x 3 columns]"
      ],
      "text/html": [
       "<div>\n",
       "<style scoped>\n",
       "    .dataframe tbody tr th:only-of-type {\n",
       "        vertical-align: middle;\n",
       "    }\n",
       "\n",
       "    .dataframe tbody tr th {\n",
       "        vertical-align: top;\n",
       "    }\n",
       "\n",
       "    .dataframe thead th {\n",
       "        text-align: right;\n",
       "    }\n",
       "</style>\n",
       "<table border=\"1\" class=\"dataframe\">\n",
       "  <thead>\n",
       "    <tr style=\"text-align: right;\">\n",
       "      <th></th>\n",
       "      <th>price</th>\n",
       "      <th>quantity</th>\n",
       "      <th>commission</th>\n",
       "    </tr>\n",
       "    <tr>\n",
       "      <th>time_utc</th>\n",
       "      <th></th>\n",
       "      <th></th>\n",
       "      <th></th>\n",
       "    </tr>\n",
       "  </thead>\n",
       "  <tbody>\n",
       "    <tr>\n",
       "      <th>2024-12-25 07:00:00+00:00</th>\n",
       "      <td>0.00</td>\n",
       "      <td>0</td>\n",
       "      <td>-13.1185</td>\n",
       "    </tr>\n",
       "    <tr>\n",
       "      <th>2024-12-25 07:00:00+00:00</th>\n",
       "      <td>262.37</td>\n",
       "      <td>-100</td>\n",
       "      <td>0.0000</td>\n",
       "    </tr>\n",
       "    <tr>\n",
       "      <th>2024-12-25 07:10:00+00:00</th>\n",
       "      <td>0.00</td>\n",
       "      <td>0</td>\n",
       "      <td>-26.3100</td>\n",
       "    </tr>\n",
       "    <tr>\n",
       "      <th>2024-12-25 07:10:00+00:00</th>\n",
       "      <td>263.10</td>\n",
       "      <td>200</td>\n",
       "      <td>-0.0000</td>\n",
       "    </tr>\n",
       "    <tr>\n",
       "      <th>2024-12-25 07:30:00+00:00</th>\n",
       "      <td>263.96</td>\n",
       "      <td>-200</td>\n",
       "      <td>0.0000</td>\n",
       "    </tr>\n",
       "    <tr>\n",
       "      <th>...</th>\n",
       "      <td>...</td>\n",
       "      <td>...</td>\n",
       "      <td>...</td>\n",
       "    </tr>\n",
       "    <tr>\n",
       "      <th>2025-01-29 14:50:00+00:00</th>\n",
       "      <td>281.35</td>\n",
       "      <td>200</td>\n",
       "      <td>-0.0000</td>\n",
       "    </tr>\n",
       "    <tr>\n",
       "      <th>2025-01-29 15:20:00+00:00</th>\n",
       "      <td>281.29</td>\n",
       "      <td>-200</td>\n",
       "      <td>0.0000</td>\n",
       "    </tr>\n",
       "    <tr>\n",
       "      <th>2025-01-29 15:20:00+00:00</th>\n",
       "      <td>0.00</td>\n",
       "      <td>0</td>\n",
       "      <td>-28.1290</td>\n",
       "    </tr>\n",
       "    <tr>\n",
       "      <th>2025-01-29 16:00:00+00:00</th>\n",
       "      <td>0.00</td>\n",
       "      <td>0</td>\n",
       "      <td>-28.2000</td>\n",
       "    </tr>\n",
       "    <tr>\n",
       "      <th>2025-01-29 16:00:00+00:00</th>\n",
       "      <td>282.00</td>\n",
       "      <td>200</td>\n",
       "      <td>-0.0000</td>\n",
       "    </tr>\n",
       "  </tbody>\n",
       "</table>\n",
       "<p>1330 rows × 3 columns</p>\n",
       "</div>"
      ]
     },
     "execution_count": 24,
     "metadata": {},
     "output_type": "execute_result"
    }
   ],
   "execution_count": 24
  },
  {
   "metadata": {
    "ExecuteTime": {
     "end_time": "2025-01-29T16:49:05.955057Z",
     "start_time": "2025-01-29T16:49:05.953717Z"
    }
   },
   "cell_type": "code",
   "source": "",
   "id": "26621bb858f03d7f",
   "outputs": [],
   "execution_count": 24
  }
 ],
 "metadata": {
  "kernelspec": {
   "display_name": "Python 3",
   "language": "python",
   "name": "python3"
  },
  "language_info": {
   "codemirror_mode": {
    "name": "ipython",
    "version": 2
   },
   "file_extension": ".py",
   "mimetype": "text/x-python",
   "name": "python",
   "nbconvert_exporter": "python",
   "pygments_lexer": "ipython2",
   "version": "2.7.6"
  }
 },
 "nbformat": 4,
 "nbformat_minor": 5
}

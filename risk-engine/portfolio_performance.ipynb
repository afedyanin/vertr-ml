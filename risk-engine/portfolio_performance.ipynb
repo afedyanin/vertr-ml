{
 "cells": [
  {
   "cell_type": "code",
   "id": "initial_id",
   "metadata": {
    "collapsed": true,
    "ExecuteTime": {
     "end_time": "2025-01-22T15:09:46.823310Z",
     "start_time": "2025-01-22T15:09:46.821049Z"
    }
   },
   "source": [
    "import sys\n",
    "import pandas as pd\n",
    "sys.path.append(\"../airflow/plugins\")\n",
    "from db_connection import DbConnection\n",
    "from domain_model import Instrument, Interval\n",
    "from portfolio import Portfolio"
   ],
   "outputs": [],
   "execution_count": 7
  },
  {
   "metadata": {
    "ExecuteTime": {
     "end_time": "2025-01-22T15:09:46.826820Z",
     "start_time": "2025-01-22T15:09:46.824319Z"
    }
   },
   "cell_type": "code",
   "source": [
    "db_connection = DbConnection.local_db_connection()\n",
    "instrument = Instrument.get_instrument(\"SBER\")\n",
    "interval = Interval.min_10\n",
    "portfolio = Portfolio(db_connection, instrument, interval)"
   ],
   "id": "3301e46a26455a71",
   "outputs": [],
   "execution_count": 8
  },
  {
   "metadata": {
    "ExecuteTime": {
     "end_time": "2025-01-22T15:09:46.873250Z",
     "start_time": "2025-01-22T15:09:46.826820Z"
    }
   },
   "cell_type": "code",
   "source": [
    "yield_df = portfolio.get_yield(initial_balance=100000)\n",
    "yield_df"
   ],
   "id": "638fd13d56a2a179",
   "outputs": [
    {
     "data": {
      "text/plain": [
       "                           yield  yield_with_commission\n",
       "time_utc                                               \n",
       "2024-12-25 07:00:00+00:00  0.000              -0.013118\n",
       "2024-12-25 07:10:00+00:00 -0.073              -0.112428\n",
       "2024-12-25 07:30:00+00:00  0.013              -0.052825\n",
       "2024-12-25 08:10:00+00:00  0.054              -0.038180\n",
       "2024-12-25 08:20:00+00:00  0.149               0.030370\n",
       "...                          ...                    ...\n",
       "2025-01-22 11:40:00+00:00  2.268             -12.194314\n",
       "2025-01-22 13:20:00+00:00  2.253             -12.237598\n",
       "2025-01-22 13:30:00+00:00  2.280             -12.238909\n",
       "2025-01-22 13:40:00+00:00  2.292             -12.255208\n",
       "2025-01-22 15:00:00+00:00  2.343             -12.232558\n",
       "\n",
       "[527 rows x 2 columns]"
      ],
      "text/html": [
       "<div>\n",
       "<style scoped>\n",
       "    .dataframe tbody tr th:only-of-type {\n",
       "        vertical-align: middle;\n",
       "    }\n",
       "\n",
       "    .dataframe tbody tr th {\n",
       "        vertical-align: top;\n",
       "    }\n",
       "\n",
       "    .dataframe thead th {\n",
       "        text-align: right;\n",
       "    }\n",
       "</style>\n",
       "<table border=\"1\" class=\"dataframe\">\n",
       "  <thead>\n",
       "    <tr style=\"text-align: right;\">\n",
       "      <th></th>\n",
       "      <th>yield</th>\n",
       "      <th>yield_with_commission</th>\n",
       "    </tr>\n",
       "    <tr>\n",
       "      <th>time_utc</th>\n",
       "      <th></th>\n",
       "      <th></th>\n",
       "    </tr>\n",
       "  </thead>\n",
       "  <tbody>\n",
       "    <tr>\n",
       "      <th>2024-12-25 07:00:00+00:00</th>\n",
       "      <td>0.000</td>\n",
       "      <td>-0.013118</td>\n",
       "    </tr>\n",
       "    <tr>\n",
       "      <th>2024-12-25 07:10:00+00:00</th>\n",
       "      <td>-0.073</td>\n",
       "      <td>-0.112428</td>\n",
       "    </tr>\n",
       "    <tr>\n",
       "      <th>2024-12-25 07:30:00+00:00</th>\n",
       "      <td>0.013</td>\n",
       "      <td>-0.052825</td>\n",
       "    </tr>\n",
       "    <tr>\n",
       "      <th>2024-12-25 08:10:00+00:00</th>\n",
       "      <td>0.054</td>\n",
       "      <td>-0.038180</td>\n",
       "    </tr>\n",
       "    <tr>\n",
       "      <th>2024-12-25 08:20:00+00:00</th>\n",
       "      <td>0.149</td>\n",
       "      <td>0.030370</td>\n",
       "    </tr>\n",
       "    <tr>\n",
       "      <th>...</th>\n",
       "      <td>...</td>\n",
       "      <td>...</td>\n",
       "    </tr>\n",
       "    <tr>\n",
       "      <th>2025-01-22 11:40:00+00:00</th>\n",
       "      <td>2.268</td>\n",
       "      <td>-12.194314</td>\n",
       "    </tr>\n",
       "    <tr>\n",
       "      <th>2025-01-22 13:20:00+00:00</th>\n",
       "      <td>2.253</td>\n",
       "      <td>-12.237598</td>\n",
       "    </tr>\n",
       "    <tr>\n",
       "      <th>2025-01-22 13:30:00+00:00</th>\n",
       "      <td>2.280</td>\n",
       "      <td>-12.238909</td>\n",
       "    </tr>\n",
       "    <tr>\n",
       "      <th>2025-01-22 13:40:00+00:00</th>\n",
       "      <td>2.292</td>\n",
       "      <td>-12.255208</td>\n",
       "    </tr>\n",
       "    <tr>\n",
       "      <th>2025-01-22 15:00:00+00:00</th>\n",
       "      <td>2.343</td>\n",
       "      <td>-12.232558</td>\n",
       "    </tr>\n",
       "  </tbody>\n",
       "</table>\n",
       "<p>527 rows × 2 columns</p>\n",
       "</div>"
      ]
     },
     "execution_count": 9,
     "metadata": {},
     "output_type": "execute_result"
    }
   ],
   "execution_count": 9
  },
  {
   "metadata": {
    "ExecuteTime": {
     "end_time": "2025-01-22T15:09:46.878246Z",
     "start_time": "2025-01-22T15:09:46.874247Z"
    }
   },
   "cell_type": "code",
   "source": [
    "yield_df['date_only'] = yield_df.index.date\n",
    "date_only = yield_df['date_only'].unique()\n",
    "num_days = len(date_only)\n",
    "num_days"
   ],
   "id": "9bc51801cbec55fa",
   "outputs": [
    {
     "data": {
      "text/plain": [
       "18"
      ]
     },
     "execution_count": 10,
     "metadata": {},
     "output_type": "execute_result"
    }
   ],
   "execution_count": 10
  },
  {
   "metadata": {
    "ExecuteTime": {
     "end_time": "2025-01-22T15:09:46.881876Z",
     "start_time": "2025-01-22T15:09:46.878246Z"
    }
   },
   "cell_type": "code",
   "source": [
    "avg_yield = yield_df['yield'].mean()\n",
    "daily_yield = avg_yield / num_days\n",
    "annual_yield =  daily_yield * 248\n",
    "print(f'Annual yield:{annual_yield}')"
   ],
   "id": "e620a96abe50c74f",
   "outputs": [
    {
     "name": "stdout",
     "output_type": "stream",
     "text": [
      "Annual yield:22.57772549019669\n"
     ]
    }
   ],
   "execution_count": 11
  },
  {
   "metadata": {
    "ExecuteTime": {
     "end_time": "2025-01-22T15:09:46.970440Z",
     "start_time": "2025-01-22T15:09:46.881876Z"
    }
   },
   "cell_type": "code",
   "source": [
    "#yield_df['yield'].plot()\n",
    "yield_df.plot()"
   ],
   "id": "9843e512673cc96b",
   "outputs": [
    {
     "data": {
      "text/plain": [
       "<Axes: xlabel='time_utc'>"
      ]
     },
     "execution_count": 12,
     "metadata": {},
     "output_type": "execute_result"
    },
    {
     "data": {
      "text/plain": [
       "<Figure size 640x480 with 1 Axes>"
      ],
      "image/png": "[encoded data removed]"
     },
     "metadata": {},
     "output_type": "display_data"
    }
   ],
   "execution_count": 12
  },
  {
   "metadata": {
    "ExecuteTime": {
     "end_time": "2025-01-22T15:09:47.008120Z",
     "start_time": "2025-01-22T15:09:46.970440Z"
    }
   },
   "cell_type": "code",
   "source": [
    "operations_df = portfolio._get_operations(grouped=True)\n",
    "operations_df"
   ],
   "id": "c241c3d81af192de",
   "outputs": [
    {
     "data": {
      "text/plain": [
       "                            price  quantity  commission\n",
       "time_utc                                               \n",
       "2024-12-25 07:00:00+00:00  262.37      -100    -13.1185\n",
       "2024-12-25 07:10:00+00:00  263.10       200    -26.3100\n",
       "2024-12-25 07:30:00+00:00  263.96      -200    -26.3960\n",
       "2024-12-25 08:10:00+00:00  263.55       200    -26.3550\n",
       "2024-12-25 08:20:00+00:00  264.50      -200    -26.4500\n",
       "...                           ...       ...         ...\n",
       "2025-01-22 11:40:00+00:00  282.69      -200    -28.2690\n",
       "2025-01-22 13:20:00+00:00  282.84       200    -28.2840\n",
       "2025-01-22 13:30:00+00:00  283.11      -200    -28.3110\n",
       "2025-01-22 13:40:00+00:00  282.99       200    -28.2990\n",
       "2025-01-22 15:00:00+00:00  283.50      -200    -28.3500\n",
       "\n",
       "[527 rows x 3 columns]"
      ],
      "text/html": [
       "<div>\n",
       "<style scoped>\n",
       "    .dataframe tbody tr th:only-of-type {\n",
       "        vertical-align: middle;\n",
       "    }\n",
       "\n",
       "    .dataframe tbody tr th {\n",
       "        vertical-align: top;\n",
       "    }\n",
       "\n",
       "    .dataframe thead th {\n",
       "        text-align: right;\n",
       "    }\n",
       "</style>\n",
       "<table border=\"1\" class=\"dataframe\">\n",
       "  <thead>\n",
       "    <tr style=\"text-align: right;\">\n",
       "      <th></th>\n",
       "      <th>price</th>\n",
       "      <th>quantity</th>\n",
       "      <th>commission</th>\n",
       "    </tr>\n",
       "    <tr>\n",
       "      <th>time_utc</th>\n",
       "      <th></th>\n",
       "      <th></th>\n",
       "      <th></th>\n",
       "    </tr>\n",
       "  </thead>\n",
       "  <tbody>\n",
       "    <tr>\n",
       "      <th>2024-12-25 07:00:00+00:00</th>\n",
       "      <td>262.37</td>\n",
       "      <td>-100</td>\n",
       "      <td>-13.1185</td>\n",
       "    </tr>\n",
       "    <tr>\n",
       "      <th>2024-12-25 07:10:00+00:00</th>\n",
       "      <td>263.10</td>\n",
       "      <td>200</td>\n",
       "      <td>-26.3100</td>\n",
       "    </tr>\n",
       "    <tr>\n",
       "      <th>2024-12-25 07:30:00+00:00</th>\n",
       "      <td>263.96</td>\n",
       "      <td>-200</td>\n",
       "      <td>-26.3960</td>\n",
       "    </tr>\n",
       "    <tr>\n",
       "      <th>2024-12-25 08:10:00+00:00</th>\n",
       "      <td>263.55</td>\n",
       "      <td>200</td>\n",
       "      <td>-26.3550</td>\n",
       "    </tr>\n",
       "    <tr>\n",
       "      <th>2024-12-25 08:20:00+00:00</th>\n",
       "      <td>264.50</td>\n",
       "      <td>-200</td>\n",
       "      <td>-26.4500</td>\n",
       "    </tr>\n",
       "    <tr>\n",
       "      <th>...</th>\n",
       "      <td>...</td>\n",
       "      <td>...</td>\n",
       "      <td>...</td>\n",
       "    </tr>\n",
       "    <tr>\n",
       "      <th>2025-01-22 11:40:00+00:00</th>\n",
       "      <td>282.69</td>\n",
       "      <td>-200</td>\n",
       "      <td>-28.2690</td>\n",
       "    </tr>\n",
       "    <tr>\n",
       "      <th>2025-01-22 13:20:00+00:00</th>\n",
       "      <td>282.84</td>\n",
       "      <td>200</td>\n",
       "      <td>-28.2840</td>\n",
       "    </tr>\n",
       "    <tr>\n",
       "      <th>2025-01-22 13:30:00+00:00</th>\n",
       "      <td>283.11</td>\n",
       "      <td>-200</td>\n",
       "      <td>-28.3110</td>\n",
       "    </tr>\n",
       "    <tr>\n",
       "      <th>2025-01-22 13:40:00+00:00</th>\n",
       "      <td>282.99</td>\n",
       "      <td>200</td>\n",
       "      <td>-28.2990</td>\n",
       "    </tr>\n",
       "    <tr>\n",
       "      <th>2025-01-22 15:00:00+00:00</th>\n",
       "      <td>283.50</td>\n",
       "      <td>-200</td>\n",
       "      <td>-28.3500</td>\n",
       "    </tr>\n",
       "  </tbody>\n",
       "</table>\n",
       "<p>527 rows × 3 columns</p>\n",
       "</div>"
      ]
     },
     "execution_count": 13,
     "metadata": {},
     "output_type": "execute_result"
    }
   ],
   "execution_count": 13
  },
  {
   "metadata": {
    "ExecuteTime": {
     "end_time": "2025-01-22T15:09:47.011116Z",
     "start_time": "2025-01-22T15:09:47.009119Z"
    }
   },
   "cell_type": "code",
   "source": "",
   "id": "26621bb858f03d7f",
   "outputs": [],
   "execution_count": 13
  }
 ],
 "metadata": {
  "kernelspec": {
   "display_name": "Python 3",
   "language": "python",
   "name": "python3"
  },
  "language_info": {
   "codemirror_mode": {
    "name": "ipython",
    "version": 2
   },
   "file_extension": ".py",
   "mimetype": "text/x-python",
   "name": "python",
   "nbconvert_exporter": "python",
   "pygments_lexer": "ipython2",
   "version": "2.7.6"
  }
 },
 "nbformat": 4,
 "nbformat_minor": 5
}

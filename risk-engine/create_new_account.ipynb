{
 "cells": [
  {
   "cell_type": "code",
   "id": "initial_id",
   "metadata": {
    "collapsed": true,
    "ExecuteTime": {
     "end_time": "2024-12-25T06:39:54.476710Z",
     "start_time": "2024-12-25T06:39:54.074424Z"
    }
   },
   "source": [
    "import sys\n",
    "from tinvest_sandbox_adapter import TinvestSandboxAdapter \n",
    "\n",
    "sys.path.append(\"../airflow/plugins\")"
   ],
   "outputs": [],
   "execution_count": 1
  },
  {
   "metadata": {
    "ExecuteTime": {
     "end_time": "2024-12-25T06:39:55.575584Z",
     "start_time": "2024-12-25T06:39:55.573462Z"
    }
   },
   "cell_type": "code",
   "source": "tinvest = TinvestSandboxAdapter()",
   "id": "eafcff7586ccc11e",
   "outputs": [],
   "execution_count": 2
  },
  {
   "metadata": {
    "ExecuteTime": {
     "end_time": "2024-12-25T06:27:41.297977Z",
     "start_time": "2024-12-25T06:27:41.082580Z"
    }
   },
   "cell_type": "code",
   "source": [
    "account = tinvest.open_sandbox_account()\n",
    "print(account)"
   ],
   "id": "c2ff062e8e839754",
   "outputs": [
    {
     "name": "stdout",
     "output_type": "stream",
     "text": [
      "fc66cf9b-8fb8-4d9e-ba79-a5e8b87c5aa7\n"
     ]
    }
   ],
   "execution_count": 6
  },
  {
   "metadata": {
    "ExecuteTime": {
     "end_time": "2024-12-25T06:39:58.955643Z",
     "start_time": "2024-12-25T06:39:58.736104Z"
    }
   },
   "cell_type": "code",
   "source": [
    "tinvest = TinvestSandboxAdapter()\n",
    "tinvest.deposit_sandbox_account(amount=100000)\n"
   ],
   "id": "1f0a6089c774c9df",
   "outputs": [
    {
     "data": {
      "text/plain": [
       "Decimal('100000.00000000')"
      ]
     },
     "execution_count": 3,
     "metadata": {},
     "output_type": "execute_result"
    }
   ],
   "execution_count": 3
  },
  {
   "metadata": {
    "ExecuteTime": {
     "end_time": "2024-12-25T06:26:46.661128Z",
     "start_time": "2024-12-25T06:26:46.323524Z"
    }
   },
   "cell_type": "code",
   "source": [
    "accounts = tinvest.get_accounts()\n",
    "print(accounts)\n"
   ],
   "id": "ba4e33c986f58cdc",
   "outputs": [
    {
     "name": "stdout",
     "output_type": "stream",
     "text": [
      "[Account(id='61be7fc2-2caf-40f0-aea2-2c545edb418a', type=<AccountType.ACCOUNT_TYPE_TINKOFF: 1>, name='', status=<AccountStatus.ACCOUNT_STATUS_OPEN: 2>, opened_date=datetime.datetime(2024, 12, 22, 13, 44, 40, 222218, tzinfo=datetime.timezone.utc), closed_date=datetime.datetime(1970, 1, 1, 0, 0, tzinfo=datetime.timezone.utc), access_level=<AccessLevel.ACCOUNT_ACCESS_LEVEL_FULL_ACCESS: 1>)]\n"
     ]
    }
   ],
   "execution_count": 4
  },
  {
   "metadata": {
    "ExecuteTime": {
     "end_time": "2024-12-25T06:27:31.340031Z",
     "start_time": "2024-12-25T06:27:31.092191Z"
    }
   },
   "cell_type": "code",
   "source": "tinvest.close_sandbox_account('61be7fc2-2caf-40f0-aea2-2c545edb418a')\n",
   "id": "cc642f9367d44ca1",
   "outputs": [
    {
     "data": {
      "text/plain": [
       "CloseSandboxAccountResponse()"
      ]
     },
     "execution_count": 5,
     "metadata": {},
     "output_type": "execute_result"
    }
   ],
   "execution_count": 5
  },
  {
   "metadata": {},
   "cell_type": "code",
   "outputs": [],
   "execution_count": null,
   "source": "",
   "id": "b8d6378773cb777a"
  }
 ],
 "metadata": {
  "kernelspec": {
   "display_name": "Python 3",
   "language": "python",
   "name": "python3"
  },
  "language_info": {
   "codemirror_mode": {
    "name": "ipython",
    "version": 2
   },
   "file_extension": ".py",
   "mimetype": "text/x-python",
   "name": "python",
   "nbconvert_exporter": "python",
   "pygments_lexer": "ipython2",
   "version": "2.7.6"
  }
 },
 "nbformat": 4,
 "nbformat_minor": 5
}

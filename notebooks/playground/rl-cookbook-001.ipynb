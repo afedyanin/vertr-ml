{
 "cells": [
  {
   "cell_type": "code",
   "id": "initial_id",
   "metadata": {
    "collapsed": true,
    "ExecuteTime": {
     "end_time": "2024-09-16T13:38:08.054958Z",
     "start_time": "2024-09-16T13:38:07.991891Z"
    }
   },
   "source": [
    "import gymnasium as gym\n",
    "\n",
    "env = gym.make('CartPole-v1', render_mode='rgb_array')\n",
    "\n",
    "#video_dir = 'cartpole_video/'\n",
    "#env = gym.wrappers.RecordVideo(env, video_dir)\n",
    "\n",
    "env.reset()\n",
    "\n",
    "is_done = False\n",
    "while not is_done:\n",
    "    action = env.action_space.sample()\n",
    "    new_state, _, is_done, _, _ = env.step(action)\n",
    "    print(new_state)\n",
    "    env.render()\n",
    "\n"
   ],
   "outputs": [
    {
     "name": "stdout",
     "output_type": "stream",
     "text": [
      "[-0.01357422 -0.18933743 -0.00270782  0.33801746]\n",
      "[-0.01736097  0.00582294  0.00405253  0.04448186]\n",
      "[-0.01724451  0.20088655  0.00494217 -0.2469197 ]\n",
      "[-1.3226779e-02  5.6943600e-03  3.7718778e-06  4.7317989e-02]\n",
      "[-0.01311289  0.20081626  0.00095013 -0.24536374]\n",
      "[-0.00909657  0.39592463 -0.00395714 -0.53774685]\n",
      "[-0.00117807  0.591102   -0.01471208 -0.831674  ]\n",
      "[ 0.01064397  0.39618415 -0.03134556 -0.5436541 ]\n",
      "[ 0.01856765  0.59173226 -0.04221864 -0.8460462 ]\n",
      "[ 0.03040229  0.39721096 -0.05913956 -0.56693286]\n",
      "[ 0.03834651  0.20296629 -0.07047822 -0.29345214]\n",
      "[ 0.04240584  0.00891625 -0.07634726 -0.02380314]\n",
      "[ 0.04258416 -0.1850325  -0.07682333  0.24384822]\n",
      "[ 0.03888351  0.0110979  -0.07194636 -0.0720435 ]\n",
      "[ 0.03910547  0.2071736  -0.07338724 -0.38653016]\n",
      "[ 0.04324894  0.40325645 -0.08111784 -0.70141923]\n",
      "[ 0.05131407  0.20934701 -0.09514622 -0.43533403]\n",
      "[ 0.05550101  0.40567806 -0.10385291 -0.7564294 ]\n",
      "[ 0.06361458  0.21212915 -0.11898149 -0.49814814]\n",
      "[ 0.06785715  0.40871    -0.12894446 -0.8258328 ]\n",
      "[ 0.07603136  0.215565   -0.14546111 -0.5763252 ]\n",
      "[ 0.08034266  0.02274931 -0.15698761 -0.332771  ]\n",
      "[ 0.08079764 -0.16983047 -0.16364303 -0.09341864]\n",
      "[ 0.07740103 -0.3622749  -0.1655114   0.14349487]\n",
      "[ 0.07015554 -0.16521707 -0.16264151 -0.19649091]\n",
      "[ 0.06685119 -0.35768425 -0.16657132  0.04079383]\n",
      "[ 0.05969751 -0.16061406 -0.16575545 -0.29946584]\n",
      "[ 0.05648523  0.03643481 -0.17174476 -0.6394973 ]\n",
      "[ 0.05721392  0.23348238 -0.18453471 -0.9809653 ]\n",
      "[ 0.06188357  0.43053344 -0.20415401 -1.3254694 ]\n",
      "[ 0.07049424  0.23848878 -0.2306634  -1.1029899 ]\n"
     ]
    }
   ],
   "execution_count": 33
  },
  {
   "metadata": {
    "ExecuteTime": {
     "end_time": "2024-09-16T13:38:14.041412Z",
     "start_time": "2024-09-16T13:38:12.288421Z"
    }
   },
   "cell_type": "code",
   "source": [
    "n_episode = 10000\n",
    "total_rewards = []\n",
    "for episode in range(n_episode):\n",
    "    state = env.reset()\n",
    "    total_reward = 0\n",
    "    is_done = False\n",
    "    while not is_done:\n",
    "        action = env.action_space.sample()\n",
    "        state, reward, is_done, _, _ = env.step(action)\n",
    "        total_reward += reward\n",
    "    total_rewards.append(total_reward)\n",
    "\n",
    "env.close()\n"
   ],
   "id": "34446797b6dc0f33",
   "outputs": [],
   "execution_count": 34
  },
  {
   "metadata": {
    "ExecuteTime": {
     "end_time": "2024-09-16T13:38:16.274890Z",
     "start_time": "2024-09-16T13:38:16.271197Z"
    }
   },
   "cell_type": "code",
   "source": "print('Average total reward over {} episodes: {}'.format(n_episode, sum(total_rewards) / n_episode))\n",
   "id": "c6e2e422c3393d29",
   "outputs": [
    {
     "name": "stdout",
     "output_type": "stream",
     "text": [
      "Average total reward over 10000 episodes: 22.2059\n"
     ]
    }
   ],
   "execution_count": 35
  },
  {
   "metadata": {},
   "cell_type": "code",
   "outputs": [],
   "execution_count": null,
   "source": "",
   "id": "4d67c32c38757bab"
  }
 ],
 "metadata": {
  "kernelspec": {
   "display_name": "Python 3",
   "language": "python",
   "name": "python3"
  },
  "language_info": {
   "codemirror_mode": {
    "name": "ipython",
    "version": 2
   },
   "file_extension": ".py",
   "mimetype": "text/x-python",
   "name": "python",
   "nbconvert_exporter": "python",
   "pygments_lexer": "ipython2",
   "version": "2.7.6"
  }
 },
 "nbformat": 4,
 "nbformat_minor": 5
}

{
 "cells": [
  {
   "cell_type": "code",
   "id": "initial_id",
   "metadata": {
    "collapsed": true,
    "ExecuteTime": {
     "end_time": "2025-02-08T17:07:17.311415Z",
     "start_time": "2025-02-08T17:07:13.194897Z"
    }
   },
   "source": [
    "from app.configuration.config import PgSqlSettings\n",
    "from app.models.gym_env_factory import register_single_asset_trading_env\n",
    "from app.models.predictor_factory import PredictorType\n",
    "from app.models.request.prediction import PredictionRequest\n",
    "from app.services.prediction import PredictionService"
   ],
   "outputs": [],
   "execution_count": 1
  },
  {
   "metadata": {
    "ExecuteTime": {
     "end_time": "2025-02-08T17:07:20.035406Z",
     "start_time": "2025-02-08T17:07:20.032266Z"
    }
   },
   "cell_type": "code",
   "source": "register_single_asset_trading_env()",
   "id": "7d7db93c6f73b95d",
   "outputs": [
    {
     "name": "stdout",
     "output_type": "stream",
     "text": [
      "Environment registered. EnvSpec(id='SingleAssetTrading-v1', entry_point='app.models.gym_env_single_asset:SingleAssetTrading', reward_threshold=None, nondeterministic=False, max_episode_steps=None, order_enforce=True, autoreset=False, disable_env_checker=True, apply_api_compatibility=False, kwargs={}, namespace=None, name='SingleAssetTrading', version=1, additional_wrappers=(), vector_entry_point=None)\n"
     ]
    }
   ],
   "execution_count": 2
  },
  {
   "metadata": {
    "ExecuteTime": {
     "end_time": "2025-02-08T17:07:21.202182Z",
     "start_time": "2025-02-08T17:07:21.198454Z"
    }
   },
   "cell_type": "code",
   "source": [
    "sql_config = PgSqlSettings(_env_file='../app/.env')\n",
    "service = PredictionService(sql_config)"
   ],
   "id": "6651a4cb283fded8",
   "outputs": [],
   "execution_count": 3
  },
  {
   "metadata": {
    "ExecuteTime": {
     "end_time": "2025-02-08T17:07:35.772835Z",
     "start_time": "2025-02-08T17:07:35.495628Z"
    }
   },
   "cell_type": "code",
   "source": [
    "sb3_request = PredictionRequest(predictor=PredictorType.Sb3, algo=\"dqn\")\n",
    "sb3_response = service.predict(sb3_request)\n",
    "print(sb3_response)"
   ],
   "id": "98bce938ccff4454",
   "outputs": [
    {
     "name": "stdout",
     "output_type": "stream",
     "text": [
      "time=[Timestamp('2025-02-06 09:20:00+0000', tz='UTC'), Timestamp('2025-02-06 09:30:00+0000', tz='UTC'), Timestamp('2025-02-06 09:40:00+0000', tz='UTC'), Timestamp('2025-02-06 09:50:00+0000', tz='UTC'), Timestamp('2025-02-06 10:00:00+0000', tz='UTC'), Timestamp('2025-02-06 10:10:00+0000', tz='UTC'), Timestamp('2025-02-06 10:20:00+0000', tz='UTC'), Timestamp('2025-02-06 10:30:00+0000', tz='UTC'), Timestamp('2025-02-06 10:40:00+0000', tz='UTC'), Timestamp('2025-02-06 10:50:00+0000', tz='UTC'), Timestamp('2025-02-06 11:00:00+0000', tz='UTC')] action=[<Action.Hold: 0>, <Action.Hold: 0>, <Action.Hold: 0>, <Action.Sell: 1>, <Action.Sell: 1>, <Action.Hold: 0>, <Action.Buy: 2>, <Action.Buy: 2>, <Action.Buy: 2>, <Action.Buy: 2>, <Action.Buy: 2>]\n"
     ]
    }
   ],
   "execution_count": 5
  },
  {
   "metadata": {
    "ExecuteTime": {
     "end_time": "2025-02-08T17:08:30.950988Z",
     "start_time": "2025-02-08T17:08:30.927442Z"
    }
   },
   "cell_type": "code",
   "source": [
    "rw_request = PredictionRequest(predictor=PredictorType.RandomWalk)\n",
    "rw_response = service.predict(rw_request)   \n",
    "print(rw_response)"
   ],
   "id": "83e1ea08e1693061",
   "outputs": [
    {
     "name": "stdout",
     "output_type": "stream",
     "text": [
      "time=[Timestamp('2025-02-06 09:20:00+0000', tz='UTC'), Timestamp('2025-02-06 09:30:00+0000', tz='UTC'), Timestamp('2025-02-06 09:40:00+0000', tz='UTC'), Timestamp('2025-02-06 09:50:00+0000', tz='UTC'), Timestamp('2025-02-06 10:00:00+0000', tz='UTC'), Timestamp('2025-02-06 10:10:00+0000', tz='UTC'), Timestamp('2025-02-06 10:20:00+0000', tz='UTC'), Timestamp('2025-02-06 10:30:00+0000', tz='UTC'), Timestamp('2025-02-06 10:40:00+0000', tz='UTC'), Timestamp('2025-02-06 10:50:00+0000', tz='UTC'), Timestamp('2025-02-06 11:00:00+0000', tz='UTC')] action=[<Action.Buy: 2>, <Action.Hold: 0>, <Action.Sell: 1>, <Action.Sell: 1>, <Action.Hold: 0>, <Action.Hold: 0>, <Action.Buy: 2>, <Action.Buy: 2>, <Action.Buy: 2>, <Action.Hold: 0>, <Action.Sell: 1>]\n"
     ]
    }
   ],
   "execution_count": 6
  },
  {
   "metadata": {
    "ExecuteTime": {
     "end_time": "2025-02-08T17:08:45.310155Z",
     "start_time": "2025-02-08T17:08:45.275586Z"
    }
   },
   "cell_type": "code",
   "source": [
    "tf_request = PredictionRequest(predictor=PredictorType.TrendFollowing)\n",
    "tf_response = service.predict(tf_request)   \n",
    "print(tf_response)"
   ],
   "id": "c3a060f4034c1d22",
   "outputs": [
    {
     "name": "stdout",
     "output_type": "stream",
     "text": [
      "time=[Timestamp('2025-02-06 09:20:00+0000', tz='UTC'), Timestamp('2025-02-06 09:30:00+0000', tz='UTC'), Timestamp('2025-02-06 09:40:00+0000', tz='UTC'), Timestamp('2025-02-06 09:50:00+0000', tz='UTC'), Timestamp('2025-02-06 10:00:00+0000', tz='UTC'), Timestamp('2025-02-06 10:10:00+0000', tz='UTC'), Timestamp('2025-02-06 10:20:00+0000', tz='UTC'), Timestamp('2025-02-06 10:30:00+0000', tz='UTC'), Timestamp('2025-02-06 10:40:00+0000', tz='UTC'), Timestamp('2025-02-06 10:50:00+0000', tz='UTC'), Timestamp('2025-02-06 11:00:00+0000', tz='UTC')] action=[<Action.Hold: 0>, <Action.Hold: 0>, <Action.Sell: 1>, <Action.Hold: 0>, <Action.Hold: 0>, <Action.Hold: 0>, <Action.Hold: 0>, <Action.Sell: 1>, <Action.Hold: 0>, <Action.Hold: 0>, <Action.Hold: 0>]\n"
     ]
    }
   ],
   "execution_count": 7
  },
  {
   "metadata": {},
   "cell_type": "code",
   "outputs": [],
   "execution_count": null,
   "source": "",
   "id": "526875f110ecc6f3"
  }
 ],
 "metadata": {
  "kernelspec": {
   "display_name": "Python 3",
   "language": "python",
   "name": "python3"
  },
  "language_info": {
   "codemirror_mode": {
    "name": "ipython",
    "version": 2
   },
   "file_extension": ".py",
   "mimetype": "text/x-python",
   "name": "python",
   "nbconvert_exporter": "python",
   "pygments_lexer": "ipython2",
   "version": "2.7.6"
  }
 },
 "nbformat": 4,
 "nbformat_minor": 5
}

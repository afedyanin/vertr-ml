{
 "cells": [
  {
   "cell_type": "code",
   "id": "initial_id",
   "metadata": {
    "collapsed": true
   },
   "source": [
    "from app.configuration.config import PgSqlSettings\n",
    "from app.models.data.candle import Interval\n",
    "from app.models.gym_env_factory import register_single_asset_trading_env\n",
    "from app.models.predictor_factory import PredictorFactory, PredictorType\n",
    "from app.repositories.tinvest_candles import TinvestCandlesRepository"
   ],
   "outputs": [],
   "execution_count": null
  },
  {
   "metadata": {},
   "cell_type": "code",
   "source": "register_single_asset_trading_env()",
   "id": "7d7db93c6f73b95d",
   "outputs": [],
   "execution_count": null
  },
  {
   "metadata": {},
   "cell_type": "code",
   "source": [
    "sql_config = PgSqlSettings(_env_file='../app/.env')\n",
    "candles_repo = TinvestCandlesRepository(sql_config)\n",
    "\n",
    "candles = candles_repo.get_last_candles(\n",
    "    symbol=\"SBER\", \n",
    "    interval=Interval.CANDLE_INTERVAL_10_MIN.value, \n",
    "    count=20)\n",
    "#candles"
   ],
   "id": "6651a4cb283fded8",
   "outputs": [],
   "execution_count": null
  },
  {
   "metadata": {},
   "cell_type": "code",
   "source": "predictor_factory = PredictorFactory(sql_config, candles)",
   "id": "3e1c56efc77ffdc7",
   "outputs": [],
   "execution_count": null
  },
  {
   "metadata": {},
   "cell_type": "code",
   "source": [
    "sb3_predictor = predictor_factory.create_predictor(PredictorType.Sb3, sb3_algo='dqn')\n",
    "prediction = sb3_predictor.predict_last()\n",
    "print(prediction)"
   ],
   "id": "2fb676377f5218e2",
   "outputs": [],
   "execution_count": null
  },
  {
   "metadata": {},
   "cell_type": "code",
   "source": [
    "prediction_df = sb3_predictor.predict_all()   \n",
    "prediction_df"
   ],
   "id": "d4507c16dea3651c",
   "outputs": [],
   "execution_count": null
  },
  {
   "metadata": {},
   "cell_type": "code",
   "source": [
    "rw_predictor = predictor_factory.create_predictor(PredictorType.RandomWalk)\n",
    "rw_df = rw_predictor.predict_all()   \n",
    "rw_df"
   ],
   "id": "83e1ea08e1693061",
   "outputs": [],
   "execution_count": null
  },
  {
   "metadata": {},
   "cell_type": "code",
   "source": [
    "tf_predictor = predictor_factory.create_predictor(PredictorType.TrendFollowing)\n",
    "tf_df = tf_predictor.predict_all()   \n",
    "tf_df"
   ],
   "id": "c3a060f4034c1d22",
   "outputs": [],
   "execution_count": null
  }
 ],
 "metadata": {
  "kernelspec": {
   "display_name": "Python 3",
   "language": "python",
   "name": "python3"
  },
  "language_info": {
   "codemirror_mode": {
    "name": "ipython",
    "version": 2
   },
   "file_extension": ".py",
   "mimetype": "text/x-python",
   "name": "python",
   "nbconvert_exporter": "python",
   "pygments_lexer": "ipython2",
   "version": "2.7.6"
  }
 },
 "nbformat": 4,
 "nbformat_minor": 5
}

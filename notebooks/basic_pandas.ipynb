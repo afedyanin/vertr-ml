{
 "cells": [
  {
   "cell_type": "code",
   "id": "initial_id",
   "metadata": {
    "collapsed": true,
    "ExecuteTime": {
     "end_time": "2025-09-15T12:35:16.067124Z",
     "start_time": "2025-09-15T12:35:15.835129Z"
    }
   },
   "source": "import pandas as pd",
   "outputs": [],
   "execution_count": 1
  },
  {
   "metadata": {
    "ExecuteTime": {
     "end_time": "2025-09-15T12:37:01.205579Z",
     "start_time": "2025-09-15T12:37:01.199406Z"
    }
   },
   "cell_type": "code",
   "source": [
    "df = pd.read_csv('data/SBER_250914_250915.csv')\n",
    "df.head()"
   ],
   "id": "ae36c30a6102b310",
   "outputs": [
    {
     "data": {
      "text/plain": [
       "  <DATE>;<TIME>;<OPEN>;<HIGH>;<LOW>;<CLOSE>;<VOL>\n",
       "0  250914;095900;303.18;303.18;303.18;303.18;2245\n",
       "1  250914;100000;303.18;303.18;302.8;303.05;33316\n",
       "2   250914;100100;303.13;303.13;302.8;302.8;15558\n",
       "3    250914;100200;302.8;302.8;302.73;302.75;1645\n",
       "4  250914;100300;302.74;302.77;302.72;302.76;3596"
      ],
      "text/html": [
       "<div>\n",
       "<style scoped>\n",
       "    .dataframe tbody tr th:only-of-type {\n",
       "        vertical-align: middle;\n",
       "    }\n",
       "\n",
       "    .dataframe tbody tr th {\n",
       "        vertical-align: top;\n",
       "    }\n",
       "\n",
       "    .dataframe thead th {\n",
       "        text-align: right;\n",
       "    }\n",
       "</style>\n",
       "<table border=\"1\" class=\"dataframe\">\n",
       "  <thead>\n",
       "    <tr style=\"text-align: right;\">\n",
       "      <th></th>\n",
       "      <th>&lt;DATE&gt;;&lt;TIME&gt;;&lt;OPEN&gt;;&lt;HIGH&gt;;&lt;LOW&gt;;&lt;CLOSE&gt;;&lt;VOL&gt;</th>\n",
       "    </tr>\n",
       "  </thead>\n",
       "  <tbody>\n",
       "    <tr>\n",
       "      <th>0</th>\n",
       "      <td>250914;095900;303.18;303.18;303.18;303.18;2245</td>\n",
       "    </tr>\n",
       "    <tr>\n",
       "      <th>1</th>\n",
       "      <td>250914;100000;303.18;303.18;302.8;303.05;33316</td>\n",
       "    </tr>\n",
       "    <tr>\n",
       "      <th>2</th>\n",
       "      <td>250914;100100;303.13;303.13;302.8;302.8;15558</td>\n",
       "    </tr>\n",
       "    <tr>\n",
       "      <th>3</th>\n",
       "      <td>250914;100200;302.8;302.8;302.73;302.75;1645</td>\n",
       "    </tr>\n",
       "    <tr>\n",
       "      <th>4</th>\n",
       "      <td>250914;100300;302.74;302.77;302.72;302.76;3596</td>\n",
       "    </tr>\n",
       "  </tbody>\n",
       "</table>\n",
       "</div>"
      ]
     },
     "execution_count": 3,
     "metadata": {},
     "output_type": "execute_result"
    }
   ],
   "execution_count": 3
  },
  {
   "metadata": {},
   "cell_type": "code",
   "outputs": [],
   "execution_count": null,
   "source": "",
   "id": "34cd7e8ffbea9ac4"
  }
 ],
 "metadata": {
  "kernelspec": {
   "display_name": "Python 3",
   "language": "python",
   "name": "python3"
  },
  "language_info": {
   "codemirror_mode": {
    "name": "ipython",
    "version": 2
   },
   "file_extension": ".py",
   "mimetype": "text/x-python",
   "name": "python",
   "nbconvert_exporter": "python",
   "pygments_lexer": "ipython2",
   "version": "2.7.6"
  }
 },
 "nbformat": 4,
 "nbformat_minor": 5
}

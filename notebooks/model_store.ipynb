{
 "cells": [
  {
   "cell_type": "code",
   "id": "initial_id",
   "metadata": {
    "collapsed": true,
    "ExecuteTime": {
     "end_time": "2025-01-31T12:38:19.453431Z",
     "start_time": "2025-01-31T12:38:15.480835Z"
    }
   },
   "source": [
    "import sys\n",
    "import io\n",
    "from typing import Dict, Type\n",
    "\n",
    "from sb3_contrib import ARS, QRDQN, TQC, TRPO, RecurrentPPO\n",
    "from stable_baselines3 import A2C, DDPG, DQN, PPO, SAC, TD3\n",
    "from stable_baselines3.common.base_class import BaseAlgorithm\n",
    "\n",
    "sys.path.append(\"../airflow/plugins\")\n",
    "\n",
    "from db_connection import DbConnection\n",
    "from models_sql_adapter import ModelsSqlAdapter\n"
   ],
   "outputs": [],
   "execution_count": 1
  },
  {
   "metadata": {
    "ExecuteTime": {
     "end_time": "2025-01-31T12:38:20.100538Z",
     "start_time": "2025-01-31T12:38:20.071111Z"
    }
   },
   "cell_type": "code",
   "source": [
    "db_connection = DbConnection.local_db_connection()\n",
    "sql_adapter = ModelsSqlAdapter(db_connection)"
   ],
   "id": "a2e043c3ac8b4fb2",
   "outputs": [],
   "execution_count": 2
  },
  {
   "metadata": {
    "ExecuteTime": {
     "end_time": "2025-01-31T12:38:20.659337Z",
     "start_time": "2025-01-31T12:38:20.656193Z"
    }
   },
   "cell_type": "code",
   "source": [
    "ALGOS: Dict[str, Type[BaseAlgorithm]] = {\n",
    "    \"a2c\": A2C,\n",
    "    \"ddpg\": DDPG,\n",
    "    \"dqn\": DQN,\n",
    "    \"ppo\": PPO,\n",
    "    \"sac\": SAC,\n",
    "    \"td3\": TD3,\n",
    "    # SB3 Contrib,\n",
    "    \"ars\": ARS,\n",
    "    \"qrdqn\": QRDQN,\n",
    "    \"tqc\": TQC,\n",
    "    \"trpo\": TRPO,\n",
    "    \"ppo_lstm\": RecurrentPPO,\n",
    "}\n"
   ],
   "id": "57ad120d8609234c",
   "outputs": [],
   "execution_count": 3
  },
  {
   "metadata": {
    "ExecuteTime": {
     "end_time": "2025-01-31T12:38:27.108854Z",
     "start_time": "2025-01-31T12:38:26.957824Z"
    }
   },
   "cell_type": "code",
   "source": [
    "file_name = \"dqn_model.zip\"\n",
    "algo = \"dqn\"\n",
    "\n",
    "sql_adapter.insert_model(\n",
    "    file_path=file_name,\n",
    "    algo=algo,\n",
    "    description=\"test model\" )\n",
    "\n",
    "version = sql_adapter.get_last_version(file_name)\n",
    "print(version)\n"
   ],
   "id": "ffb219f5223780f6",
   "outputs": [
    {
     "name": "stdout",
     "output_type": "stream",
     "text": [
      "5\n"
     ]
    }
   ],
   "execution_count": 5
  },
  {
   "metadata": {
    "ExecuteTime": {
     "end_time": "2025-01-31T12:38:29.456763Z",
     "start_time": "2025-01-31T12:38:29.417753Z"
    }
   },
   "cell_type": "code",
   "source": [
    "last_model = sql_adapter.get_model_by_file_name(file_name)\n",
    "print(last_model.version)"
   ],
   "id": "2aacb2d64b9cb5af",
   "outputs": [
    {
     "name": "stdout",
     "output_type": "stream",
     "text": [
      "5\n"
     ]
    }
   ],
   "execution_count": 6
  },
  {
   "metadata": {
    "ExecuteTime": {
     "end_time": "2025-01-31T12:38:31.097205Z",
     "start_time": "2025-01-31T12:38:30.415644Z"
    }
   },
   "cell_type": "code",
   "source": [
    "fio = io.BytesIO(last_model.content)\n",
    "model = ALGOS[last_model.algo].load(fio)\n",
    "\n",
    "model.action_space"
   ],
   "id": "73843dc095fa442d",
   "outputs": [
    {
     "data": {
      "text/plain": [
       "Discrete(3)"
      ]
     },
     "execution_count": 7,
     "metadata": {},
     "output_type": "execute_result"
    }
   ],
   "execution_count": 7
  },
  {
   "metadata": {},
   "cell_type": "code",
   "source": "",
   "id": "5a5ea1a4b7a4c90a",
   "outputs": [],
   "execution_count": null
  },
  {
   "metadata": {},
   "cell_type": "code",
   "source": "",
   "id": "7465fff335a26c76",
   "outputs": [],
   "execution_count": null
  }
 ],
 "metadata": {
  "kernelspec": {
   "display_name": "Python 3",
   "language": "python",
   "name": "python3"
  },
  "language_info": {
   "codemirror_mode": {
    "name": "ipython",
    "version": 2
   },
   "file_extension": ".py",
   "mimetype": "text/x-python",
   "name": "python",
   "nbconvert_exporter": "python",
   "pygments_lexer": "ipython2",
   "version": "2.7.6"
  }
 },
 "nbformat": 4,
 "nbformat_minor": 5
}

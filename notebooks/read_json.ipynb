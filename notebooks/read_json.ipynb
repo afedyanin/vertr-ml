{
 "cells": [
  {
   "cell_type": "code",
   "id": "initial_id",
   "metadata": {
    "collapsed": true,
    "ExecuteTime": {
     "end_time": "2024-09-09T16:39:19.008936Z",
     "start_time": "2024-09-09T16:39:18.546927Z"
    }
   },
   "source": [
    "# https://pandas.pydata.org/pandas-docs/stable/reference/api/pandas.read_json.html\n",
    "\n",
    "import pandas as pd\n",
    "from io import StringIO\n",
    "df = pd.DataFrame([['a', 'b'], ['c', 'd']],\n",
    "                   index=['row 1', 'row 2'],\n",
    "                   columns=['col 1', 'col 2'])\n",
    "\n",
    "df\n",
    "\n"
   ],
   "outputs": [
    {
     "data": {
      "text/plain": [
       "      col 1 col 2\n",
       "row 1     a     b\n",
       "row 2     c     d"
      ],
      "text/html": [
       "<div>\n",
       "<style scoped>\n",
       "    .dataframe tbody tr th:only-of-type {\n",
       "        vertical-align: middle;\n",
       "    }\n",
       "\n",
       "    .dataframe tbody tr th {\n",
       "        vertical-align: top;\n",
       "    }\n",
       "\n",
       "    .dataframe thead th {\n",
       "        text-align: right;\n",
       "    }\n",
       "</style>\n",
       "<table border=\"1\" class=\"dataframe\">\n",
       "  <thead>\n",
       "    <tr style=\"text-align: right;\">\n",
       "      <th></th>\n",
       "      <th>col 1</th>\n",
       "      <th>col 2</th>\n",
       "    </tr>\n",
       "  </thead>\n",
       "  <tbody>\n",
       "    <tr>\n",
       "      <th>row 1</th>\n",
       "      <td>a</td>\n",
       "      <td>b</td>\n",
       "    </tr>\n",
       "    <tr>\n",
       "      <th>row 2</th>\n",
       "      <td>c</td>\n",
       "      <td>d</td>\n",
       "    </tr>\n",
       "  </tbody>\n",
       "</table>\n",
       "</div>"
      ]
     },
     "execution_count": 1,
     "metadata": {},
     "output_type": "execute_result"
    }
   ],
   "execution_count": 1
  },
  {
   "metadata": {
    "ExecuteTime": {
     "end_time": "2024-09-09T16:41:38.039242Z",
     "start_time": "2024-09-09T16:41:38.035527Z"
    }
   },
   "cell_type": "code",
   "source": "df.to_json(path_or_buf='data.json',orient='split')\n",
   "id": "c2f1cd138fa5761f",
   "outputs": [],
   "execution_count": 3
  },
  {
   "metadata": {
    "ExecuteTime": {
     "end_time": "2024-09-09T16:54:16.220792Z",
     "start_time": "2024-09-09T16:54:16.214768Z"
    }
   },
   "cell_type": "code",
   "source": [
    "df2 = pd.read_json(path_or_buf='data2.json', orient='split')\n",
    "df2"
   ],
   "id": "e330153813cbe1d1",
   "outputs": [
    {
     "data": {
      "text/plain": [
       "                           col 1   col 2\n",
       "2024-05-15 08:30:00+00:00   0.45  265.23\n",
       "2024-05-19 05:30:00+00:00   0.28  286.15"
      ],
      "text/html": [
       "<div>\n",
       "<style scoped>\n",
       "    .dataframe tbody tr th:only-of-type {\n",
       "        vertical-align: middle;\n",
       "    }\n",
       "\n",
       "    .dataframe tbody tr th {\n",
       "        vertical-align: top;\n",
       "    }\n",
       "\n",
       "    .dataframe thead th {\n",
       "        text-align: right;\n",
       "    }\n",
       "</style>\n",
       "<table border=\"1\" class=\"dataframe\">\n",
       "  <thead>\n",
       "    <tr style=\"text-align: right;\">\n",
       "      <th></th>\n",
       "      <th>col 1</th>\n",
       "      <th>col 2</th>\n",
       "    </tr>\n",
       "  </thead>\n",
       "  <tbody>\n",
       "    <tr>\n",
       "      <th>2024-05-15 08:30:00+00:00</th>\n",
       "      <td>0.45</td>\n",
       "      <td>265.23</td>\n",
       "    </tr>\n",
       "    <tr>\n",
       "      <th>2024-05-19 05:30:00+00:00</th>\n",
       "      <td>0.28</td>\n",
       "      <td>286.15</td>\n",
       "    </tr>\n",
       "  </tbody>\n",
       "</table>\n",
       "</div>"
      ]
     },
     "execution_count": 9,
     "metadata": {},
     "output_type": "execute_result"
    }
   ],
   "execution_count": 9
  },
  {
   "metadata": {
    "ExecuteTime": {
     "end_time": "2024-09-09T16:54:20.339917Z",
     "start_time": "2024-09-09T16:54:20.332631Z"
    }
   },
   "cell_type": "code",
   "source": "df2['2024-05':]",
   "id": "bd84d012c97264aa",
   "outputs": [
    {
     "data": {
      "text/plain": [
       "                           col 1   col 2\n",
       "2024-05-15 08:30:00+00:00   0.45  265.23\n",
       "2024-05-19 05:30:00+00:00   0.28  286.15"
      ],
      "text/html": [
       "<div>\n",
       "<style scoped>\n",
       "    .dataframe tbody tr th:only-of-type {\n",
       "        vertical-align: middle;\n",
       "    }\n",
       "\n",
       "    .dataframe tbody tr th {\n",
       "        vertical-align: top;\n",
       "    }\n",
       "\n",
       "    .dataframe thead th {\n",
       "        text-align: right;\n",
       "    }\n",
       "</style>\n",
       "<table border=\"1\" class=\"dataframe\">\n",
       "  <thead>\n",
       "    <tr style=\"text-align: right;\">\n",
       "      <th></th>\n",
       "      <th>col 1</th>\n",
       "      <th>col 2</th>\n",
       "    </tr>\n",
       "  </thead>\n",
       "  <tbody>\n",
       "    <tr>\n",
       "      <th>2024-05-15 08:30:00+00:00</th>\n",
       "      <td>0.45</td>\n",
       "      <td>265.23</td>\n",
       "    </tr>\n",
       "    <tr>\n",
       "      <th>2024-05-19 05:30:00+00:00</th>\n",
       "      <td>0.28</td>\n",
       "      <td>286.15</td>\n",
       "    </tr>\n",
       "  </tbody>\n",
       "</table>\n",
       "</div>"
      ]
     },
     "execution_count": 10,
     "metadata": {},
     "output_type": "execute_result"
    }
   ],
   "execution_count": 10
  },
  {
   "metadata": {
    "ExecuteTime": {
     "end_time": "2024-09-09T16:54:23.253152Z",
     "start_time": "2024-09-09T16:54:23.249455Z"
    }
   },
   "cell_type": "code",
   "source": "df2.index",
   "id": "fdc60e6893ae111f",
   "outputs": [
    {
     "data": {
      "text/plain": [
       "DatetimeIndex(['2024-05-15 08:30:00+00:00', '2024-05-19 05:30:00+00:00'], dtype='datetime64[ns, UTC]', freq=None)"
      ]
     },
     "execution_count": 11,
     "metadata": {},
     "output_type": "execute_result"
    }
   ],
   "execution_count": 11
  },
  {
   "metadata": {},
   "cell_type": "code",
   "outputs": [],
   "execution_count": null,
   "source": "",
   "id": "652d9347d7ec0d3d"
  }
 ],
 "metadata": {
  "kernelspec": {
   "display_name": "Python 3",
   "language": "python",
   "name": "python3"
  },
  "language_info": {
   "codemirror_mode": {
    "name": "ipython",
    "version": 2
   },
   "file_extension": ".py",
   "mimetype": "text/x-python",
   "name": "python",
   "nbconvert_exporter": "python",
   "pygments_lexer": "ipython2",
   "version": "2.7.6"
  }
 },
 "nbformat": 4,
 "nbformat_minor": 5
}

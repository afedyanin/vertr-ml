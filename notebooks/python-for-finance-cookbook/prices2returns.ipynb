{
 "cells": [
  {
   "metadata": {},
   "cell_type": "markdown",
   "source": [
    "# Converting prices to returns\n",
    "Many of the models and approaches used for time series modeling require the time series to be stationary. \n",
    "\n",
    "Stationarity assumes that the statistics (mathematical moments) of a process, such as the series’ mean and variance, do not change over time. Using that assumption, we can build models that aim to forecast the future values of the process.\n",
    "\n",
    "\n"
   ],
   "id": "f638f777a27e1f31"
  },
  {
   "metadata": {
    "ExecuteTime": {
     "end_time": "2024-06-06T15:10:37.692501Z",
     "start_time": "2024-06-06T15:10:37.683792Z"
    }
   },
   "cell_type": "code",
   "source": [
    "from datetime import datetime\n",
    "import pandas as pd\n",
    "import numpy as np\n",
    "import matplotlib.pyplot as plt\n",
    "import seaborn as sns\n"
   ],
   "id": "e08083da4b666498",
   "outputs": [],
   "execution_count": 12
  },
  {
   "metadata": {
    "ExecuteTime": {
     "end_time": "2024-06-06T15:10:37.753434Z",
     "start_time": "2024-06-06T15:10:37.723761Z"
    }
   },
   "cell_type": "code",
   "source": [
    "filename_1d = \"..\\\\..\\\\data\\\\moex\\\\SBER_200101_240530.csv\"\n",
    "filename_1h = \"..\\\\..\\\\data\\\\moex\\\\SBER_240205_240603.csv\"\n",
    "\n",
    "dtype={\n",
    "    '<TICKER>': 'string',\n",
    "    '<PER>': 'string',\n",
    "    '<DATE>': 'string',\n",
    "    '<TIME>': 'string',\n",
    "    '<OPEN>': 'float',\n",
    "    '<HIGH>': 'float',\n",
    "    '<LOW>': 'float',\n",
    "    '<CLOSE>': 'float',\n",
    "    '<VOLUME>': 'float',\n",
    "}\n",
    "\n",
    "df = pd.read_csv(filename_1d, delimiter=\";\", decimal=\".\", dtype=dtype)\n",
    "df['timestamp'] = pd.to_datetime(df['<DATE>'] + ' ' + df['<TIME>'], format='%y%m%d %H%M%S')\n",
    "df.drop(['<DATE>', '<TIME>', '<PER>', '<TICKER>'], axis=1, inplace=True)\n",
    "df.set_index('timestamp', inplace=True)\n",
    "df.rename(columns= {'<OPEN>' : 'open', '<HIGH>' : 'high', '<LOW>' : 'low', '<CLOSE>' : 'close', '<VOL>' : 'volume'}, inplace=True)\n",
    "df.head()"
   ],
   "id": "ff093c03d21b7343",
   "outputs": [
    {
     "data": {
      "text/plain": [
       "              open    high     low   close    volume\n",
       "timestamp                                           \n",
       "2020-01-03  255.97  258.19  253.70  255.00  35824160\n",
       "2020-01-06  254.75  254.84  251.40  253.90  22327940\n",
       "2020-01-08  253.62  259.15  253.03  259.15  40736030\n",
       "2020-01-09  259.41  261.76  257.01  257.99  38196300\n",
       "2020-01-10  257.91  259.25  256.88  258.19  18841650"
      ],
      "text/html": [
       "<div>\n",
       "<style scoped>\n",
       "    .dataframe tbody tr th:only-of-type {\n",
       "        vertical-align: middle;\n",
       "    }\n",
       "\n",
       "    .dataframe tbody tr th {\n",
       "        vertical-align: top;\n",
       "    }\n",
       "\n",
       "    .dataframe thead th {\n",
       "        text-align: right;\n",
       "    }\n",
       "</style>\n",
       "<table border=\"1\" class=\"dataframe\">\n",
       "  <thead>\n",
       "    <tr style=\"text-align: right;\">\n",
       "      <th></th>\n",
       "      <th>open</th>\n",
       "      <th>high</th>\n",
       "      <th>low</th>\n",
       "      <th>close</th>\n",
       "      <th>volume</th>\n",
       "    </tr>\n",
       "    <tr>\n",
       "      <th>timestamp</th>\n",
       "      <th></th>\n",
       "      <th></th>\n",
       "      <th></th>\n",
       "      <th></th>\n",
       "      <th></th>\n",
       "    </tr>\n",
       "  </thead>\n",
       "  <tbody>\n",
       "    <tr>\n",
       "      <th>2020-01-03</th>\n",
       "      <td>255.97</td>\n",
       "      <td>258.19</td>\n",
       "      <td>253.70</td>\n",
       "      <td>255.00</td>\n",
       "      <td>35824160</td>\n",
       "    </tr>\n",
       "    <tr>\n",
       "      <th>2020-01-06</th>\n",
       "      <td>254.75</td>\n",
       "      <td>254.84</td>\n",
       "      <td>251.40</td>\n",
       "      <td>253.90</td>\n",
       "      <td>22327940</td>\n",
       "    </tr>\n",
       "    <tr>\n",
       "      <th>2020-01-08</th>\n",
       "      <td>253.62</td>\n",
       "      <td>259.15</td>\n",
       "      <td>253.03</td>\n",
       "      <td>259.15</td>\n",
       "      <td>40736030</td>\n",
       "    </tr>\n",
       "    <tr>\n",
       "      <th>2020-01-09</th>\n",
       "      <td>259.41</td>\n",
       "      <td>261.76</td>\n",
       "      <td>257.01</td>\n",
       "      <td>257.99</td>\n",
       "      <td>38196300</td>\n",
       "    </tr>\n",
       "    <tr>\n",
       "      <th>2020-01-10</th>\n",
       "      <td>257.91</td>\n",
       "      <td>259.25</td>\n",
       "      <td>256.88</td>\n",
       "      <td>258.19</td>\n",
       "      <td>18841650</td>\n",
       "    </tr>\n",
       "  </tbody>\n",
       "</table>\n",
       "</div>"
      ]
     },
     "execution_count": 13,
     "metadata": {},
     "output_type": "execute_result"
    }
   ],
   "execution_count": 13
  },
  {
   "metadata": {
    "ExecuteTime": {
     "end_time": "2024-06-06T15:15:57.991359Z",
     "start_time": "2024-06-06T15:15:57.974672Z"
    }
   },
   "cell_type": "code",
   "source": [
    "df = df.loc[:, ['close']]\n",
    "df[\"simple_rtn\"] = df.close.pct_change()\n",
    "df[\"log_rtn\"] = np.log(df.close/df.close.shift(1))\n",
    "\n",
    "df.head()"
   ],
   "id": "ed2f48722cac3e1a",
   "outputs": [
    {
     "data": {
      "text/plain": [
       "             close  simple_rtn   log_rtn\n",
       "timestamp                               \n",
       "2020-01-03  255.00         NaN       NaN\n",
       "2020-01-06  253.90   -0.004314 -0.004323\n",
       "2020-01-08  259.15    0.020677  0.020467\n",
       "2020-01-09  257.99   -0.004476 -0.004486\n",
       "2020-01-10  258.19    0.000775  0.000775"
      ],
      "text/html": [
       "<div>\n",
       "<style scoped>\n",
       "    .dataframe tbody tr th:only-of-type {\n",
       "        vertical-align: middle;\n",
       "    }\n",
       "\n",
       "    .dataframe tbody tr th {\n",
       "        vertical-align: top;\n",
       "    }\n",
       "\n",
       "    .dataframe thead th {\n",
       "        text-align: right;\n",
       "    }\n",
       "</style>\n",
       "<table border=\"1\" class=\"dataframe\">\n",
       "  <thead>\n",
       "    <tr style=\"text-align: right;\">\n",
       "      <th></th>\n",
       "      <th>close</th>\n",
       "      <th>simple_rtn</th>\n",
       "      <th>log_rtn</th>\n",
       "    </tr>\n",
       "    <tr>\n",
       "      <th>timestamp</th>\n",
       "      <th></th>\n",
       "      <th></th>\n",
       "      <th></th>\n",
       "    </tr>\n",
       "  </thead>\n",
       "  <tbody>\n",
       "    <tr>\n",
       "      <th>2020-01-03</th>\n",
       "      <td>255.00</td>\n",
       "      <td>NaN</td>\n",
       "      <td>NaN</td>\n",
       "    </tr>\n",
       "    <tr>\n",
       "      <th>2020-01-06</th>\n",
       "      <td>253.90</td>\n",
       "      <td>-0.004314</td>\n",
       "      <td>-0.004323</td>\n",
       "    </tr>\n",
       "    <tr>\n",
       "      <th>2020-01-08</th>\n",
       "      <td>259.15</td>\n",
       "      <td>0.020677</td>\n",
       "      <td>0.020467</td>\n",
       "    </tr>\n",
       "    <tr>\n",
       "      <th>2020-01-09</th>\n",
       "      <td>257.99</td>\n",
       "      <td>-0.004476</td>\n",
       "      <td>-0.004486</td>\n",
       "    </tr>\n",
       "    <tr>\n",
       "      <th>2020-01-10</th>\n",
       "      <td>258.19</td>\n",
       "      <td>0.000775</td>\n",
       "      <td>0.000775</td>\n",
       "    </tr>\n",
       "  </tbody>\n",
       "</table>\n",
       "</div>"
      ]
     },
     "execution_count": 20,
     "metadata": {},
     "output_type": "execute_result"
    }
   ],
   "execution_count": 20
  },
  {
   "metadata": {},
   "cell_type": "markdown",
   "source": "# Changing the frequency of time series data\n",
   "id": "c53877270143a63f"
  },
  {
   "metadata": {
    "ExecuteTime": {
     "end_time": "2024-06-06T15:36:24.331500Z",
     "start_time": "2024-06-06T15:36:23.942772Z"
    }
   },
   "cell_type": "code",
   "source": [
    "# Define the function for calculating the realized volatility:\n",
    "def realized_volatility(x):\n",
    "    return np.sqrt(np.sum(x**2, axis=0))\n",
    "\n",
    "# https://pandas.pydata.org/pandas-docs/stable/user_guide/timeseries.html#offset-aliases\n",
    "# Calculate monthly realized volatility:\n",
    "df_rv = (\n",
    "    df.loc[:, ['log_rtn']].groupby(pd.Grouper(freq=\"ME\"))\n",
    "    .apply(realized_volatility, )\n",
    "    .rename(columns={\"log_rtn\": \"rv\"})\n",
    ")\n",
    "\n",
    "# Annualize the values:\n",
    "df_rv.rv = df_rv[\"rv\"] * np.sqrt(12)\n",
    "\n",
    "# Plot the results:\n",
    "ig, ax = plt.subplots(2, 1, sharex=True)\n",
    "ax[0].plot(df.log_rtn)\n",
    "ax[0].set_title(\"SBER's log returns (2020-2024)\")\n",
    "ax[1].plot(df_rv.rv)\n",
    "ax[1].set_title(\"Annualized realized volatility\")\n",
    "sns.despine()\n",
    "plt.tight_layout()\n",
    "\n",
    "#df_rv\n"
   ],
   "id": "3d7f5d04a35d986b",
   "outputs": [
    {
     "data": {
      "text/plain": [
       "<Figure size 640x480 with 2 Axes>"
      ],
      "image/png": "[encoded data removed]"
     },
     "metadata": {},
     "output_type": "display_data"
    }
   ],
   "execution_count": 26
  },
  {
   "metadata": {},
   "cell_type": "code",
   "outputs": [],
   "execution_count": null,
   "source": "",
   "id": "2d58f17a07fa20e9"
  }
 ],
 "metadata": {
  "kernelspec": {
   "display_name": "Python 3",
   "language": "python",
   "name": "python3"
  },
  "language_info": {
   "codemirror_mode": {
    "name": "ipython",
    "version": 2
   },
   "file_extension": ".py",
   "mimetype": "text/x-python",
   "name": "python",
   "nbconvert_exporter": "python",
   "pygments_lexer": "ipython2",
   "version": "2.7.6"
  }
 },
 "nbformat": 4,
 "nbformat_minor": 5
}

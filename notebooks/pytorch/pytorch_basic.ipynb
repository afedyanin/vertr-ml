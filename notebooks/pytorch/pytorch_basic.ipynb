{
 "cells": [
  {
   "metadata": {},
   "cell_type": "markdown",
   "source": [
    "## pytorch\n",
    "\n",
    "- [Start Locally](https://pytorch.org/get-started/locally/)\n",
    "\n",
    "```\n",
    "pip3 install torch torchvision --index-url https://download.pytorch.org/whl/cu126\n",
    "```\n",
    "\n",
    "## tensorboard\n",
    "\n",
    "- [Using TensorBoard in PyTorch](https://docs.pytorch.org/tutorials/recipes/recipes/tensorboard_with_pytorch.html)\n",
    "- [«Cделать красиво». Визуализация обучения с Tensorboard от Google](https://habr.com/ru/articles/349338/)\n",
    "\n",
    "```\n",
    "pip install tensorboard\n",
    "```\n",
    "\n",
    "```\n",
    "tensorboard --logdir=notebooks\\pytorch\\runs\n",
    "```\n",
    "\n",
    "## sklearn\n",
    "\n",
    "- [scikit-learn](https://scikit-learn.org/stable/)\n"
   ],
   "id": "1f6d64f6d3d1203a"
  },
  {
   "metadata": {
    "ExecuteTime": {
     "end_time": "2025-09-17T15:54:19.149412Z",
     "start_time": "2025-09-17T15:54:17.994860Z"
    }
   },
   "cell_type": "code",
   "source": [
    "import torch\n",
    "x = torch.rand(5, 3)\n",
    "print(x)\n"
   ],
   "id": "d50fe68f494ab002",
   "outputs": [
    {
     "name": "stdout",
     "output_type": "stream",
     "text": [
      "tensor([[0.9601, 0.4089, 0.2704],\n",
      "        [0.1716, 0.6943, 0.6686],\n",
      "        [0.2205, 0.2943, 0.0072],\n",
      "        [0.8957, 0.6812, 0.2498],\n",
      "        [0.2508, 0.5397, 0.1594]])\n"
     ]
    }
   ],
   "execution_count": 1
  },
  {
   "metadata": {
    "ExecuteTime": {
     "end_time": "2025-09-17T15:54:32.952373Z",
     "start_time": "2025-09-17T15:54:32.922196Z"
    }
   },
   "cell_type": "code",
   "source": "torch.cuda.is_available()",
   "id": "86cb81d756791d87",
   "outputs": [
    {
     "data": {
      "text/plain": [
       "True"
      ]
     },
     "execution_count": 2,
     "metadata": {},
     "output_type": "execute_result"
    }
   ],
   "execution_count": 2
  },
  {
   "metadata": {
    "ExecuteTime": {
     "end_time": "2025-09-17T16:02:57.068182Z",
     "start_time": "2025-09-17T16:02:56.422039Z"
    }
   },
   "cell_type": "code",
   "source": [
    "from torch.utils.tensorboard import SummaryWriter\n",
    "\n",
    "writer = SummaryWriter()\n",
    "\n",
    "x = torch.arange(-5, 5, 0.1).view(-1, 1)\n",
    "y = -5 * x + 0.1 * torch.randn(x.size())\n",
    "\n",
    "model = torch.nn.Linear(1, 1)\n",
    "criterion = torch.nn.MSELoss()\n",
    "optimizer = torch.optim.SGD(model.parameters(), lr = 0.1)\n",
    "\n",
    "def train_model(iter):\n",
    "    for epoch in range(iter):\n",
    "        y1 = model(x)\n",
    "        loss = criterion(y1, y)\n",
    "        writer.add_scalar(\"Loss/train\", loss, epoch)\n",
    "        optimizer.zero_grad()\n",
    "        loss.backward()\n",
    "        optimizer.step()\n",
    "\n",
    "train_model(10)\n",
    "writer.flush()\n",
    "writer.close()"
   ],
   "id": "f3132603cfbfebbe",
   "outputs": [],
   "execution_count": 3
  },
  {
   "metadata": {
    "ExecuteTime": {
     "end_time": "2025-09-17T16:36:57.606422Z",
     "start_time": "2025-09-17T16:36:57.601094Z"
    }
   },
   "cell_type": "code",
   "source": [
    "# GPU\n",
    "\n",
    "n_cudas = torch.cuda.device_count()\n",
    "for i in range(n_cudas):\n",
    "    print(torch.cuda.get_device_name(i))"
   ],
   "id": "2963e90f5ce997a3",
   "outputs": [
    {
     "name": "stdout",
     "output_type": "stream",
     "text": [
      "NVIDIA GeForce RTX 4070 Ti\n"
     ]
    }
   ],
   "execution_count": 4
  }
 ],
 "metadata": {
  "kernelspec": {
   "display_name": "Python 3",
   "language": "python",
   "name": "python3"
  },
  "language_info": {
   "codemirror_mode": {
    "name": "ipython",
    "version": 2
   },
   "file_extension": ".py",
   "mimetype": "text/x-python",
   "name": "python",
   "nbconvert_exporter": "python",
   "pygments_lexer": "ipython2",
   "version": "2.7.6"
  }
 },
 "nbformat": 4,
 "nbformat_minor": 5
}

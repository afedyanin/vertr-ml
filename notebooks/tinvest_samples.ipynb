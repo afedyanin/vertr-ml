{
 "cells": [
  {
   "cell_type": "code",
   "id": "initial_id",
   "metadata": {
    "collapsed": true,
    "ExecuteTime": {
     "end_time": "2025-02-03T16:45:06.137766Z",
     "start_time": "2025-02-03T16:45:06.134766Z"
    }
   },
   "source": [
    "from app.configuration.config import TinvestSettings, PgSqlSettings\n",
    "from datetime import datetime, timezone, timedelta\n",
    "\n",
    "from tinkoff.invest import CandleInterval\n",
    "\n",
    "from app.repositories.tinvest_candles import TinvestCandlesRepository\n",
    "from app.services.tinvest import TinvestAdapter"
   ],
   "outputs": [],
   "execution_count": 7
  },
  {
   "metadata": {
    "ExecuteTime": {
     "end_time": "2025-02-03T16:45:06.150207Z",
     "start_time": "2025-02-03T16:45:06.138766Z"
    }
   },
   "cell_type": "code",
   "source": [
    "tinvest_config = TinvestSettings(_env_file='../app/.env')\n",
    "tinvest = TinvestAdapter(tinvest_config)\n",
    "\n",
    "sql_config = PgSqlSettings(_env_file='../app/.env')\n",
    "candles_repo = TinvestCandlesRepository(sql_config)"
   ],
   "id": "6651a4cb283fded8",
   "outputs": [],
   "execution_count": 8
  },
  {
   "metadata": {
    "ExecuteTime": {
     "end_time": "2025-02-03T16:45:07.405227Z",
     "start_time": "2025-02-03T16:45:06.150207Z"
    }
   },
   "cell_type": "code",
   "source": [
    "symbol = tinvest.get_instrument(ticker=\"SBER\", class_code=\"TQBR\")\n",
    "\n",
    "end_date_utc = datetime.now(timezone.utc)\n",
    "days_count = 10\n",
    "start_date_utc = end_date_utc - timedelta(days=days_count)\n",
    "\n",
    "candles = tinvest.get_candles(\n",
    "    instrument_id=symbol.uid,\n",
    "    start_date_utc=start_date_utc,\n",
    "    end_date_utc=end_date_utc,\n",
    "    interval=CandleInterval.CANDLE_INTERVAL_10_MIN)"
   ],
   "id": "74b417f84d20d1a5",
   "outputs": [],
   "execution_count": 9
  },
  {
   "metadata": {
    "ExecuteTime": {
     "end_time": "2025-02-03T16:45:07.754381Z",
     "start_time": "2025-02-03T16:45:07.405227Z"
    }
   },
   "cell_type": "code",
   "source": "candles_repo.insert_candles(\"SBER\", CandleInterval.CANDLE_INTERVAL_10_MIN, candles)",
   "id": "125f1bbfb2f16705",
   "outputs": [
    {
     "data": {
      "text/plain": [
       "607"
      ]
     },
     "execution_count": 10,
     "metadata": {},
     "output_type": "execute_result"
    }
   ],
   "execution_count": 10
  },
  {
   "metadata": {
    "ExecuteTime": {
     "end_time": "2025-02-03T16:45:07.781104Z",
     "start_time": "2025-02-03T16:45:07.754888Z"
    }
   },
   "cell_type": "code",
   "source": [
    "df = candles_repo.get_candles(\"SBER\", CandleInterval.CANDLE_INTERVAL_10_MIN)\n",
    "df"
   ],
   "id": "415b6c921c32ee1c",
   "outputs": [
    {
     "data": {
      "text/plain": [
       "                     time_utc  interval symbol    open   close    high  \\\n",
       "0   2025-01-24 16:40:00+00:00         8   SBER  281.13  280.84  281.13   \n",
       "1   2025-01-24 16:50:00+00:00         8   SBER  280.83  281.04  281.04   \n",
       "2   2025-01-24 17:00:00+00:00         8   SBER  281.00  281.18  281.18   \n",
       "3   2025-01-24 17:10:00+00:00         8   SBER  281.14  281.04  281.19   \n",
       "4   2025-01-24 17:20:00+00:00         8   SBER  281.00  281.05  281.14   \n",
       "..                        ...       ...    ...     ...     ...     ...   \n",
       "602 2025-02-03 16:00:00+00:00         8   SBER  279.22  278.99  279.22   \n",
       "603 2025-02-03 16:10:00+00:00         8   SBER  278.98  279.01  279.08   \n",
       "604 2025-02-03 16:20:00+00:00         8   SBER  279.01  279.00  279.09   \n",
       "605 2025-02-03 16:30:00+00:00         8   SBER  279.01  279.03  279.07   \n",
       "606 2025-02-03 16:40:00+00:00         8   SBER  279.03  279.09  279.10   \n",
       "\n",
       "        low   volume  is_completed  candle_source  \n",
       "0    280.81   8287.0          True              1  \n",
       "1    280.76   6811.0          True              1  \n",
       "2    280.76   5663.0          True              1  \n",
       "3    281.00   6755.0          True              1  \n",
       "4    280.97   5422.0          True              1  \n",
       "..      ...      ...           ...            ...  \n",
       "602  278.93   5082.0          True              1  \n",
       "603  278.98  12349.0          True              1  \n",
       "604  279.00   4429.0          True              1  \n",
       "605  279.00   3890.0          True              1  \n",
       "606  279.02   1456.0         False              1  \n",
       "\n",
       "[607 rows x 10 columns]"
      ],
      "text/html": [
       "<div>\n",
       "<style scoped>\n",
       "    .dataframe tbody tr th:only-of-type {\n",
       "        vertical-align: middle;\n",
       "    }\n",
       "\n",
       "    .dataframe tbody tr th {\n",
       "        vertical-align: top;\n",
       "    }\n",
       "\n",
       "    .dataframe thead th {\n",
       "        text-align: right;\n",
       "    }\n",
       "</style>\n",
       "<table border=\"1\" class=\"dataframe\">\n",
       "  <thead>\n",
       "    <tr style=\"text-align: right;\">\n",
       "      <th></th>\n",
       "      <th>time_utc</th>\n",
       "      <th>interval</th>\n",
       "      <th>symbol</th>\n",
       "      <th>open</th>\n",
       "      <th>close</th>\n",
       "      <th>high</th>\n",
       "      <th>low</th>\n",
       "      <th>volume</th>\n",
       "      <th>is_completed</th>\n",
       "      <th>candle_source</th>\n",
       "    </tr>\n",
       "  </thead>\n",
       "  <tbody>\n",
       "    <tr>\n",
       "      <th>0</th>\n",
       "      <td>2025-01-24 16:40:00+00:00</td>\n",
       "      <td>8</td>\n",
       "      <td>SBER</td>\n",
       "      <td>281.13</td>\n",
       "      <td>280.84</td>\n",
       "      <td>281.13</td>\n",
       "      <td>280.81</td>\n",
       "      <td>8287.0</td>\n",
       "      <td>True</td>\n",
       "      <td>1</td>\n",
       "    </tr>\n",
       "    <tr>\n",
       "      <th>1</th>\n",
       "      <td>2025-01-24 16:50:00+00:00</td>\n",
       "      <td>8</td>\n",
       "      <td>SBER</td>\n",
       "      <td>280.83</td>\n",
       "      <td>281.04</td>\n",
       "      <td>281.04</td>\n",
       "      <td>280.76</td>\n",
       "      <td>6811.0</td>\n",
       "      <td>True</td>\n",
       "      <td>1</td>\n",
       "    </tr>\n",
       "    <tr>\n",
       "      <th>2</th>\n",
       "      <td>2025-01-24 17:00:00+00:00</td>\n",
       "      <td>8</td>\n",
       "      <td>SBER</td>\n",
       "      <td>281.00</td>\n",
       "      <td>281.18</td>\n",
       "      <td>281.18</td>\n",
       "      <td>280.76</td>\n",
       "      <td>5663.0</td>\n",
       "      <td>True</td>\n",
       "      <td>1</td>\n",
       "    </tr>\n",
       "    <tr>\n",
       "      <th>3</th>\n",
       "      <td>2025-01-24 17:10:00+00:00</td>\n",
       "      <td>8</td>\n",
       "      <td>SBER</td>\n",
       "      <td>281.14</td>\n",
       "      <td>281.04</td>\n",
       "      <td>281.19</td>\n",
       "      <td>281.00</td>\n",
       "      <td>6755.0</td>\n",
       "      <td>True</td>\n",
       "      <td>1</td>\n",
       "    </tr>\n",
       "    <tr>\n",
       "      <th>4</th>\n",
       "      <td>2025-01-24 17:20:00+00:00</td>\n",
       "      <td>8</td>\n",
       "      <td>SBER</td>\n",
       "      <td>281.00</td>\n",
       "      <td>281.05</td>\n",
       "      <td>281.14</td>\n",
       "      <td>280.97</td>\n",
       "      <td>5422.0</td>\n",
       "      <td>True</td>\n",
       "      <td>1</td>\n",
       "    </tr>\n",
       "    <tr>\n",
       "      <th>...</th>\n",
       "      <td>...</td>\n",
       "      <td>...</td>\n",
       "      <td>...</td>\n",
       "      <td>...</td>\n",
       "      <td>...</td>\n",
       "      <td>...</td>\n",
       "      <td>...</td>\n",
       "      <td>...</td>\n",
       "      <td>...</td>\n",
       "      <td>...</td>\n",
       "    </tr>\n",
       "    <tr>\n",
       "      <th>602</th>\n",
       "      <td>2025-02-03 16:00:00+00:00</td>\n",
       "      <td>8</td>\n",
       "      <td>SBER</td>\n",
       "      <td>279.22</td>\n",
       "      <td>278.99</td>\n",
       "      <td>279.22</td>\n",
       "      <td>278.93</td>\n",
       "      <td>5082.0</td>\n",
       "      <td>True</td>\n",
       "      <td>1</td>\n",
       "    </tr>\n",
       "    <tr>\n",
       "      <th>603</th>\n",
       "      <td>2025-02-03 16:10:00+00:00</td>\n",
       "      <td>8</td>\n",
       "      <td>SBER</td>\n",
       "      <td>278.98</td>\n",
       "      <td>279.01</td>\n",
       "      <td>279.08</td>\n",
       "      <td>278.98</td>\n",
       "      <td>12349.0</td>\n",
       "      <td>True</td>\n",
       "      <td>1</td>\n",
       "    </tr>\n",
       "    <tr>\n",
       "      <th>604</th>\n",
       "      <td>2025-02-03 16:20:00+00:00</td>\n",
       "      <td>8</td>\n",
       "      <td>SBER</td>\n",
       "      <td>279.01</td>\n",
       "      <td>279.00</td>\n",
       "      <td>279.09</td>\n",
       "      <td>279.00</td>\n",
       "      <td>4429.0</td>\n",
       "      <td>True</td>\n",
       "      <td>1</td>\n",
       "    </tr>\n",
       "    <tr>\n",
       "      <th>605</th>\n",
       "      <td>2025-02-03 16:30:00+00:00</td>\n",
       "      <td>8</td>\n",
       "      <td>SBER</td>\n",
       "      <td>279.01</td>\n",
       "      <td>279.03</td>\n",
       "      <td>279.07</td>\n",
       "      <td>279.00</td>\n",
       "      <td>3890.0</td>\n",
       "      <td>True</td>\n",
       "      <td>1</td>\n",
       "    </tr>\n",
       "    <tr>\n",
       "      <th>606</th>\n",
       "      <td>2025-02-03 16:40:00+00:00</td>\n",
       "      <td>8</td>\n",
       "      <td>SBER</td>\n",
       "      <td>279.03</td>\n",
       "      <td>279.09</td>\n",
       "      <td>279.10</td>\n",
       "      <td>279.02</td>\n",
       "      <td>1456.0</td>\n",
       "      <td>False</td>\n",
       "      <td>1</td>\n",
       "    </tr>\n",
       "  </tbody>\n",
       "</table>\n",
       "<p>607 rows × 10 columns</p>\n",
       "</div>"
      ]
     },
     "execution_count": 11,
     "metadata": {},
     "output_type": "execute_result"
    }
   ],
   "execution_count": 11
  },
  {
   "metadata": {
    "ExecuteTime": {
     "end_time": "2025-02-03T16:45:07.783320Z",
     "start_time": "2025-02-03T16:45:07.781104Z"
    }
   },
   "cell_type": "code",
   "source": "",
   "id": "c5524ad095b2d7a4",
   "outputs": [],
   "execution_count": 11
  }
 ],
 "metadata": {
  "kernelspec": {
   "display_name": "Python 3",
   "language": "python",
   "name": "python3"
  },
  "language_info": {
   "codemirror_mode": {
    "name": "ipython",
    "version": 2
   },
   "file_extension": ".py",
   "mimetype": "text/x-python",
   "name": "python",
   "nbconvert_exporter": "python",
   "pygments_lexer": "ipython2",
   "version": "2.7.6"
  }
 },
 "nbformat": 4,
 "nbformat_minor": 5
}

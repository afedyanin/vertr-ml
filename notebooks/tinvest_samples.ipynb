{
 "cells": [
  {
   "cell_type": "code",
   "id": "initial_id",
   "metadata": {
    "collapsed": true,
    "ExecuteTime": {
     "end_time": "2025-02-03T16:16:22.635741Z",
     "start_time": "2025-02-03T16:16:22.176258Z"
    }
   },
   "source": [
    "from app.configuration.config import TinvestSettings\n",
    "from datetime import datetime, timezone, timedelta\n",
    "\n",
    "from tinkoff.invest import CandleInterval\n",
    "from app.services.tinvest import TinvestAdapter"
   ],
   "outputs": [],
   "execution_count": 1
  },
  {
   "metadata": {
    "ExecuteTime": {
     "end_time": "2025-02-03T16:16:23.997839Z",
     "start_time": "2025-02-03T16:16:23.993197Z"
    }
   },
   "cell_type": "code",
   "source": [
    "config = TinvestSettings(_env_file='../app/.env')\n",
    "print(config.model_dump())\n",
    "tinvest = TinvestAdapter(config)"
   ],
   "id": "6651a4cb283fded8",
   "outputs": [
    {
     "name": "stdout",
     "output_type": "stream",
     "text": [
      "{'token': 't.8DpIsag8_t2bHcaPEXZiAxDLdxbyqP7MXvDwoamPBWSDBD7dgQeMNutgas5Ay83YOlLsA-m8qSPm8Sz-FMaNuw', 'account_id': 'fc66cf9b-8fb8-4d9e-ba79-a5e8b87c5aa7'}\n"
     ]
    }
   ],
   "execution_count": 2
  },
  {
   "metadata": {
    "ExecuteTime": {
     "end_time": "2025-02-03T16:16:27.438003Z",
     "start_time": "2025-02-03T16:16:26.268626Z"
    }
   },
   "cell_type": "code",
   "source": [
    "symbol = tinvest.get_instrument(ticker=\"SBER\", class_code=\"TQBR\")\n",
    "\n",
    "end_date_utc = datetime.now(timezone.utc)\n",
    "days_count = 10\n",
    "start_date_utc = end_date_utc - timedelta(days=days_count)\n",
    "\n",
    "candles = tinvest.get_candles(\n",
    "    instrument_id=symbol.uid,\n",
    "    start_date_utc=start_date_utc,\n",
    "    end_date_utc=end_date_utc,\n",
    "    interval=CandleInterval.CANDLE_INTERVAL_10_MIN)\n"
   ],
   "id": "74b417f84d20d1a5",
   "outputs": [],
   "execution_count": 3
  },
  {
   "metadata": {
    "ExecuteTime": {
     "end_time": "2025-02-03T16:16:29.173857Z",
     "start_time": "2025-02-03T16:16:29.164656Z"
    }
   },
   "cell_type": "code",
   "source": "candles",
   "id": "125f1bbfb2f16705",
   "outputs": [
    {
     "data": {
      "text/plain": [
       "                     time_utc    open    high     low   close  volume  \\\n",
       "0   2025-01-24 16:10:00+00:00  281.22  281.48  281.08  281.34   17410   \n",
       "1   2025-01-24 16:20:00+00:00  281.34  281.48  281.30  281.35    9153   \n",
       "2   2025-01-24 16:30:00+00:00  281.37  281.40  280.97  281.10   16139   \n",
       "3   2025-01-24 16:40:00+00:00  281.13  281.13  280.81  280.84    8287   \n",
       "4   2025-01-24 16:50:00+00:00  280.83  281.04  280.76  281.04    6811   \n",
       "..                        ...     ...     ...     ...     ...     ...   \n",
       "602 2025-02-03 15:20:00+00:00  278.81  279.10  278.65  279.08   38005   \n",
       "603 2025-02-03 15:30:00+00:00  279.09  279.15  278.73  279.00   25056   \n",
       "604 2025-02-03 15:40:00+00:00  279.22  279.22  279.22  279.22   25500   \n",
       "605 2025-02-03 16:00:00+00:00  279.22  279.22  278.93  278.99    5082   \n",
       "606 2025-02-03 16:10:00+00:00  278.98  279.08  278.98  279.00   10798   \n",
       "\n",
       "     is_complete  candle_source  \n",
       "0           True              1  \n",
       "1           True              1  \n",
       "2           True              1  \n",
       "3           True              1  \n",
       "4           True              1  \n",
       "..           ...            ...  \n",
       "602         True              1  \n",
       "603         True              1  \n",
       "604         True              1  \n",
       "605         True              1  \n",
       "606        False              1  \n",
       "\n",
       "[607 rows x 8 columns]"
      ],
      "text/html": [
       "<div>\n",
       "<style scoped>\n",
       "    .dataframe tbody tr th:only-of-type {\n",
       "        vertical-align: middle;\n",
       "    }\n",
       "\n",
       "    .dataframe tbody tr th {\n",
       "        vertical-align: top;\n",
       "    }\n",
       "\n",
       "    .dataframe thead th {\n",
       "        text-align: right;\n",
       "    }\n",
       "</style>\n",
       "<table border=\"1\" class=\"dataframe\">\n",
       "  <thead>\n",
       "    <tr style=\"text-align: right;\">\n",
       "      <th></th>\n",
       "      <th>time_utc</th>\n",
       "      <th>open</th>\n",
       "      <th>high</th>\n",
       "      <th>low</th>\n",
       "      <th>close</th>\n",
       "      <th>volume</th>\n",
       "      <th>is_complete</th>\n",
       "      <th>candle_source</th>\n",
       "    </tr>\n",
       "  </thead>\n",
       "  <tbody>\n",
       "    <tr>\n",
       "      <th>0</th>\n",
       "      <td>2025-01-24 16:10:00+00:00</td>\n",
       "      <td>281.22</td>\n",
       "      <td>281.48</td>\n",
       "      <td>281.08</td>\n",
       "      <td>281.34</td>\n",
       "      <td>17410</td>\n",
       "      <td>True</td>\n",
       "      <td>1</td>\n",
       "    </tr>\n",
       "    <tr>\n",
       "      <th>1</th>\n",
       "      <td>2025-01-24 16:20:00+00:00</td>\n",
       "      <td>281.34</td>\n",
       "      <td>281.48</td>\n",
       "      <td>281.30</td>\n",
       "      <td>281.35</td>\n",
       "      <td>9153</td>\n",
       "      <td>True</td>\n",
       "      <td>1</td>\n",
       "    </tr>\n",
       "    <tr>\n",
       "      <th>2</th>\n",
       "      <td>2025-01-24 16:30:00+00:00</td>\n",
       "      <td>281.37</td>\n",
       "      <td>281.40</td>\n",
       "      <td>280.97</td>\n",
       "      <td>281.10</td>\n",
       "      <td>16139</td>\n",
       "      <td>True</td>\n",
       "      <td>1</td>\n",
       "    </tr>\n",
       "    <tr>\n",
       "      <th>3</th>\n",
       "      <td>2025-01-24 16:40:00+00:00</td>\n",
       "      <td>281.13</td>\n",
       "      <td>281.13</td>\n",
       "      <td>280.81</td>\n",
       "      <td>280.84</td>\n",
       "      <td>8287</td>\n",
       "      <td>True</td>\n",
       "      <td>1</td>\n",
       "    </tr>\n",
       "    <tr>\n",
       "      <th>4</th>\n",
       "      <td>2025-01-24 16:50:00+00:00</td>\n",
       "      <td>280.83</td>\n",
       "      <td>281.04</td>\n",
       "      <td>280.76</td>\n",
       "      <td>281.04</td>\n",
       "      <td>6811</td>\n",
       "      <td>True</td>\n",
       "      <td>1</td>\n",
       "    </tr>\n",
       "    <tr>\n",
       "      <th>...</th>\n",
       "      <td>...</td>\n",
       "      <td>...</td>\n",
       "      <td>...</td>\n",
       "      <td>...</td>\n",
       "      <td>...</td>\n",
       "      <td>...</td>\n",
       "      <td>...</td>\n",
       "      <td>...</td>\n",
       "    </tr>\n",
       "    <tr>\n",
       "      <th>602</th>\n",
       "      <td>2025-02-03 15:20:00+00:00</td>\n",
       "      <td>278.81</td>\n",
       "      <td>279.10</td>\n",
       "      <td>278.65</td>\n",
       "      <td>279.08</td>\n",
       "      <td>38005</td>\n",
       "      <td>True</td>\n",
       "      <td>1</td>\n",
       "    </tr>\n",
       "    <tr>\n",
       "      <th>603</th>\n",
       "      <td>2025-02-03 15:30:00+00:00</td>\n",
       "      <td>279.09</td>\n",
       "      <td>279.15</td>\n",
       "      <td>278.73</td>\n",
       "      <td>279.00</td>\n",
       "      <td>25056</td>\n",
       "      <td>True</td>\n",
       "      <td>1</td>\n",
       "    </tr>\n",
       "    <tr>\n",
       "      <th>604</th>\n",
       "      <td>2025-02-03 15:40:00+00:00</td>\n",
       "      <td>279.22</td>\n",
       "      <td>279.22</td>\n",
       "      <td>279.22</td>\n",
       "      <td>279.22</td>\n",
       "      <td>25500</td>\n",
       "      <td>True</td>\n",
       "      <td>1</td>\n",
       "    </tr>\n",
       "    <tr>\n",
       "      <th>605</th>\n",
       "      <td>2025-02-03 16:00:00+00:00</td>\n",
       "      <td>279.22</td>\n",
       "      <td>279.22</td>\n",
       "      <td>278.93</td>\n",
       "      <td>278.99</td>\n",
       "      <td>5082</td>\n",
       "      <td>True</td>\n",
       "      <td>1</td>\n",
       "    </tr>\n",
       "    <tr>\n",
       "      <th>606</th>\n",
       "      <td>2025-02-03 16:10:00+00:00</td>\n",
       "      <td>278.98</td>\n",
       "      <td>279.08</td>\n",
       "      <td>278.98</td>\n",
       "      <td>279.00</td>\n",
       "      <td>10798</td>\n",
       "      <td>False</td>\n",
       "      <td>1</td>\n",
       "    </tr>\n",
       "  </tbody>\n",
       "</table>\n",
       "<p>607 rows × 8 columns</p>\n",
       "</div>"
      ]
     },
     "execution_count": 4,
     "metadata": {},
     "output_type": "execute_result"
    }
   ],
   "execution_count": 4
  },
  {
   "metadata": {},
   "cell_type": "code",
   "source": "",
   "id": "415b6c921c32ee1c",
   "outputs": [],
   "execution_count": null
  }
 ],
 "metadata": {
  "kernelspec": {
   "display_name": "Python 3",
   "language": "python",
   "name": "python3"
  },
  "language_info": {
   "codemirror_mode": {
    "name": "ipython",
    "version": 2
   },
   "file_extension": ".py",
   "mimetype": "text/x-python",
   "name": "python",
   "nbconvert_exporter": "python",
   "pygments_lexer": "ipython2",
   "version": "2.7.6"
  }
 },
 "nbformat": 4,
 "nbformat_minor": 5
}

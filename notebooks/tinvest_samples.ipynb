{
 "cells": [
  {
   "cell_type": "code",
   "id": "initial_id",
   "metadata": {
    "collapsed": true
   },
   "source": [
    "from stable_baselines3.common.base_class import BaseAlgorithm\n",
    "\n",
    "from app.configuration.config import TinvestSettings, PgSqlSettings\n",
    "from datetime import datetime, timezone, timedelta\n",
    "from gymnasium import Env\n",
    "\n",
    "from app.models.data.candle import Interval\n",
    "from app.models.feature_composer import FeatureComposer\n",
    "from app.models.gym_env_factory import GymEnvFactory, register_single_asset_trading_env\n",
    "from app.repositories.tinvest_candles import TinvestCandlesRepository\n",
    "from app.services.tinvest import TinvestAdapter"
   ],
   "outputs": [],
   "execution_count": null
  },
  {
   "metadata": {},
   "cell_type": "code",
   "source": [
    "tinvest_config = TinvestSettings(_env_file='../app/.env')\n",
    "tinvest = TinvestAdapter(tinvest_config)\n",
    "\n",
    "sql_config = PgSqlSettings(_env_file='../app/.env')\n",
    "candles_repo = TinvestCandlesRepository(sql_config)\n",
    "\n",
    "register_single_asset_trading_env()"
   ],
   "id": "6651a4cb283fded8",
   "outputs": [],
   "execution_count": null
  },
  {
   "metadata": {},
   "cell_type": "code",
   "source": [
    "#symbol = tinvest.get_instrument(ticker=\"SBER\", class_code=\"TQBR\")\n",
    "\n",
    "#end_date_utc = datetime.now(timezone.utc)\n",
    "#days_count = 10\n",
    "#start_date_utc = end_date_utc - timedelta(days=days_count)\n",
    "\n",
    "#candles = tinvest.get_candles(\n",
    "#    instrument_id=symbol.uid,\n",
    "#    start_date_utc=start_date_utc,\n",
    "#    end_date_utc=end_date_utc,\n",
    "#    interval=Interval.CANDLE_INTERVAL_10_MIN)"
   ],
   "id": "74b417f84d20d1a5",
   "outputs": [],
   "execution_count": null
  },
  {
   "metadata": {},
   "cell_type": "code",
   "source": "#candles_repo.insert_candles(\"SBER\", CandleInterval.CANDLE_INTERVAL_10_MIN, candles)",
   "id": "125f1bbfb2f16705",
   "outputs": [],
   "execution_count": null
  },
  {
   "metadata": {},
   "cell_type": "code",
   "source": [
    "#df = candles_repo.get_candles(\"SBER\", Interval.CANDLE_INTERVAL_10_MIN.value)\n",
    "df = candles_repo.get_last_candles(\"SBER\", Interval.CANDLE_INTERVAL_10_MIN.value)\n",
    "fk = FeatureComposer(fill_missing_values=True)\n",
    "df = fk.compose(df)\n",
    "# df"
   ],
   "id": "415b6c921c32ee1c",
   "outputs": [],
   "execution_count": null
  },
  {
   "metadata": {},
   "cell_type": "code",
   "source": [
    "env_factory = GymEnvFactory(df)\n",
    "env, total_steps = env_factory.create_env()\n",
    "#observation, info = env.reset()\n",
    "#observation, info"
   ],
   "id": "72868f003b938ce8",
   "outputs": [],
   "execution_count": null
  },
  {
   "metadata": {},
   "cell_type": "code",
   "outputs": [],
   "execution_count": null,
   "source": [
    "# TODO: обучить и сохранить модель в БД\n",
    "# TODO: загрузить модель из БД\n"
   ],
   "id": "80e469bcd1dad7"
  },
  {
   "metadata": {},
   "cell_type": "code",
   "outputs": [],
   "execution_count": null,
   "source": [
    "# TODO: Move it to predictor\n",
    "def predict(env: Env, model: BaseAlgorithm) -> dict:\n",
    "    observation, info = env.reset()\n",
    "    is_done = False\n",
    "    while not is_done:\n",
    "        action, _ = model.predict(observation=observation, deterministic=True)\n",
    "        observation, reward, terminated, truncated, info = env.step(action)\n",
    "        is_done = terminated or truncated\n",
    "\n",
    "    # выход из цикла вернул данные по последней свече\n",
    "    # используем их для реального предсказания\n",
    "    action, _ = model.predict(observation=observation, deterministic=True)\n",
    "    info.update({'action': action})\n",
    "    return info\n"
   ],
   "id": "2fb676377f5218e2"
  },
  {
   "metadata": {},
   "cell_type": "code",
   "source": "",
   "id": "6797888df2c713b9",
   "outputs": [],
   "execution_count": null
  }
 ],
 "metadata": {
  "kernelspec": {
   "display_name": "Python 3",
   "language": "python",
   "name": "python3"
  },
  "language_info": {
   "codemirror_mode": {
    "name": "ipython",
    "version": 2
   },
   "file_extension": ".py",
   "mimetype": "text/x-python",
   "name": "python",
   "nbconvert_exporter": "python",
   "pygments_lexer": "ipython2",
   "version": "2.7.6"
  }
 },
 "nbformat": 4,
 "nbformat_minor": 5
}

{
 "cells": [
  {
   "cell_type": "code",
   "id": "initial_id",
   "metadata": {
    "collapsed": true,
    "ExecuteTime": {
     "end_time": "2025-02-08T19:21:41.891582Z",
     "start_time": "2025-02-08T19:21:29.799338Z"
    }
   },
   "source": [
    "from app.configuration.config import TinvestSettings, PgSqlSettings\n",
    "from datetime import datetime, timezone, timedelta\n",
    "\n",
    "from app.models.data.candle import Interval\n",
    "from app.repositories.tinvest_candles import TinvestCandlesRepository\n",
    "from app.services.tinvest import TinvestAdapter"
   ],
   "outputs": [],
   "execution_count": 2
  },
  {
   "metadata": {
    "ExecuteTime": {
     "end_time": "2025-02-08T19:23:20.712154Z",
     "start_time": "2025-02-08T19:23:20.605660Z"
    }
   },
   "cell_type": "code",
   "source": [
    "tinvest_config = TinvestSettings(_env_file='../app/.env')\n",
    "tinvest = TinvestAdapter(tinvest_config)\n",
    "\n",
    "sql_config = PgSqlSettings(_env_file='../app/.env')\n",
    "candles_repo = TinvestCandlesRepository(sql_config)\n"
   ],
   "id": "cc56b48a9baa9333",
   "outputs": [],
   "execution_count": 4
  },
  {
   "metadata": {
    "ExecuteTime": {
     "end_time": "2025-02-08T19:24:39.097910Z",
     "start_time": "2025-02-08T19:23:33.275379Z"
    }
   },
   "cell_type": "code",
   "source": [
    "symbol = tinvest.get_instrument(ticker=\"SBER\", class_code=\"TQBR\")\n",
    "instrument_id=symbol.uid,\n",
    "\n",
    "end_date_utc = datetime.now(timezone.utc)    \n",
    "\n",
    "for i in range(100):\n",
    "    start_date_utc = end_date_utc - timedelta(days=10)\n",
    "    print(f\"Getting candles from {start_date_utc} to {end_date_utc}\")\n",
    "    candles = tinvest.get_candles(\n",
    "        instrument_id=symbol.uid,\n",
    "        start_date_utc=start_date_utc,\n",
    "        end_date_utc=end_date_utc,\n",
    "        interval=Interval.CANDLE_INTERVAL_10_MIN)\n",
    "    candles_repo.insert_candles(\"SBER\", Interval.CANDLE_INTERVAL_10_MIN.value, candles)\n",
    "    end_date_utc = start_date_utc\n"
   ],
   "id": "9d2f3074ec16818f",
   "outputs": [
    {
     "name": "stdout",
     "output_type": "stream",
     "text": [
      "Getting candles from 2025-01-29 19:23:33.518441+00:00 to 2025-02-08 19:23:33.518441+00:00\n",
      "Getting candles from 2025-01-19 19:23:33.518441+00:00 to 2025-01-29 19:23:33.518441+00:00\n",
      "Getting candles from 2025-01-09 19:23:33.518441+00:00 to 2025-01-19 19:23:33.518441+00:00\n",
      "Getting candles from 2024-12-30 19:23:33.518441+00:00 to 2025-01-09 19:23:33.518441+00:00\n",
      "Getting candles from 2024-12-20 19:23:33.518441+00:00 to 2024-12-30 19:23:33.518441+00:00\n",
      "Getting candles from 2024-12-10 19:23:33.518441+00:00 to 2024-12-20 19:23:33.518441+00:00\n",
      "Getting candles from 2024-11-30 19:23:33.518441+00:00 to 2024-12-10 19:23:33.518441+00:00\n",
      "Getting candles from 2024-11-20 19:23:33.518441+00:00 to 2024-11-30 19:23:33.518441+00:00\n",
      "Getting candles from 2024-11-10 19:23:33.518441+00:00 to 2024-11-20 19:23:33.518441+00:00\n",
      "Getting candles from 2024-10-31 19:23:33.518441+00:00 to 2024-11-10 19:23:33.518441+00:00\n",
      "Getting candles from 2024-10-21 19:23:33.518441+00:00 to 2024-10-31 19:23:33.518441+00:00\n",
      "Getting candles from 2024-10-11 19:23:33.518441+00:00 to 2024-10-21 19:23:33.518441+00:00\n",
      "Getting candles from 2024-10-01 19:23:33.518441+00:00 to 2024-10-11 19:23:33.518441+00:00\n",
      "Getting candles from 2024-09-21 19:23:33.518441+00:00 to 2024-10-01 19:23:33.518441+00:00\n",
      "Getting candles from 2024-09-11 19:23:33.518441+00:00 to 2024-09-21 19:23:33.518441+00:00\n",
      "Getting candles from 2024-09-01 19:23:33.518441+00:00 to 2024-09-11 19:23:33.518441+00:00\n",
      "Getting candles from 2024-08-22 19:23:33.518441+00:00 to 2024-09-01 19:23:33.518441+00:00\n",
      "Getting candles from 2024-08-12 19:23:33.518441+00:00 to 2024-08-22 19:23:33.518441+00:00\n",
      "Getting candles from 2024-08-02 19:23:33.518441+00:00 to 2024-08-12 19:23:33.518441+00:00\n",
      "Getting candles from 2024-07-23 19:23:33.518441+00:00 to 2024-08-02 19:23:33.518441+00:00\n",
      "Getting candles from 2024-07-13 19:23:33.518441+00:00 to 2024-07-23 19:23:33.518441+00:00\n",
      "Getting candles from 2024-07-03 19:23:33.518441+00:00 to 2024-07-13 19:23:33.518441+00:00\n",
      "Getting candles from 2024-06-23 19:23:33.518441+00:00 to 2024-07-03 19:23:33.518441+00:00\n",
      "Getting candles from 2024-06-13 19:23:33.518441+00:00 to 2024-06-23 19:23:33.518441+00:00\n",
      "Getting candles from 2024-06-03 19:23:33.518441+00:00 to 2024-06-13 19:23:33.518441+00:00\n",
      "Getting candles from 2024-05-24 19:23:33.518441+00:00 to 2024-06-03 19:23:33.518441+00:00\n",
      "Getting candles from 2024-05-14 19:23:33.518441+00:00 to 2024-05-24 19:23:33.518441+00:00\n",
      "Getting candles from 2024-05-04 19:23:33.518441+00:00 to 2024-05-14 19:23:33.518441+00:00\n",
      "Getting candles from 2024-04-24 19:23:33.518441+00:00 to 2024-05-04 19:23:33.518441+00:00\n",
      "Getting candles from 2024-04-14 19:23:33.518441+00:00 to 2024-04-24 19:23:33.518441+00:00\n",
      "Getting candles from 2024-04-04 19:23:33.518441+00:00 to 2024-04-14 19:23:33.518441+00:00\n",
      "Getting candles from 2024-03-25 19:23:33.518441+00:00 to 2024-04-04 19:23:33.518441+00:00\n",
      "Getting candles from 2024-03-15 19:23:33.518441+00:00 to 2024-03-25 19:23:33.518441+00:00\n",
      "Getting candles from 2024-03-05 19:23:33.518441+00:00 to 2024-03-15 19:23:33.518441+00:00\n",
      "Getting candles from 2024-02-24 19:23:33.518441+00:00 to 2024-03-05 19:23:33.518441+00:00\n",
      "Getting candles from 2024-02-14 19:23:33.518441+00:00 to 2024-02-24 19:23:33.518441+00:00\n",
      "Getting candles from 2024-02-04 19:23:33.518441+00:00 to 2024-02-14 19:23:33.518441+00:00\n",
      "Getting candles from 2024-01-25 19:23:33.518441+00:00 to 2024-02-04 19:23:33.518441+00:00\n",
      "Getting candles from 2024-01-15 19:23:33.518441+00:00 to 2024-01-25 19:23:33.518441+00:00\n",
      "Getting candles from 2024-01-05 19:23:33.518441+00:00 to 2024-01-15 19:23:33.518441+00:00\n",
      "Getting candles from 2023-12-26 19:23:33.518441+00:00 to 2024-01-05 19:23:33.518441+00:00\n",
      "Getting candles from 2023-12-16 19:23:33.518441+00:00 to 2023-12-26 19:23:33.518441+00:00\n",
      "Getting candles from 2023-12-06 19:23:33.518441+00:00 to 2023-12-16 19:23:33.518441+00:00\n",
      "Getting candles from 2023-11-26 19:23:33.518441+00:00 to 2023-12-06 19:23:33.518441+00:00\n",
      "Getting candles from 2023-11-16 19:23:33.518441+00:00 to 2023-11-26 19:23:33.518441+00:00\n",
      "Getting candles from 2023-11-06 19:23:33.518441+00:00 to 2023-11-16 19:23:33.518441+00:00\n",
      "Getting candles from 2023-10-27 19:23:33.518441+00:00 to 2023-11-06 19:23:33.518441+00:00\n",
      "Getting candles from 2023-10-17 19:23:33.518441+00:00 to 2023-10-27 19:23:33.518441+00:00\n",
      "Getting candles from 2023-10-07 19:23:33.518441+00:00 to 2023-10-17 19:23:33.518441+00:00\n",
      "Getting candles from 2023-09-27 19:23:33.518441+00:00 to 2023-10-07 19:23:33.518441+00:00\n",
      "Getting candles from 2023-09-17 19:23:33.518441+00:00 to 2023-09-27 19:23:33.518441+00:00\n",
      "Getting candles from 2023-09-07 19:23:33.518441+00:00 to 2023-09-17 19:23:33.518441+00:00\n",
      "Getting candles from 2023-08-28 19:23:33.518441+00:00 to 2023-09-07 19:23:33.518441+00:00\n",
      "Getting candles from 2023-08-18 19:23:33.518441+00:00 to 2023-08-28 19:23:33.518441+00:00\n",
      "Getting candles from 2023-08-08 19:23:33.518441+00:00 to 2023-08-18 19:23:33.518441+00:00\n",
      "Getting candles from 2023-07-29 19:23:33.518441+00:00 to 2023-08-08 19:23:33.518441+00:00\n",
      "Getting candles from 2023-07-19 19:23:33.518441+00:00 to 2023-07-29 19:23:33.518441+00:00\n",
      "Getting candles from 2023-07-09 19:23:33.518441+00:00 to 2023-07-19 19:23:33.518441+00:00\n",
      "Getting candles from 2023-06-29 19:23:33.518441+00:00 to 2023-07-09 19:23:33.518441+00:00\n",
      "Getting candles from 2023-06-19 19:23:33.518441+00:00 to 2023-06-29 19:23:33.518441+00:00\n",
      "Getting candles from 2023-06-09 19:23:33.518441+00:00 to 2023-06-19 19:23:33.518441+00:00\n",
      "Getting candles from 2023-05-30 19:23:33.518441+00:00 to 2023-06-09 19:23:33.518441+00:00\n",
      "Getting candles from 2023-05-20 19:23:33.518441+00:00 to 2023-05-30 19:23:33.518441+00:00\n",
      "Getting candles from 2023-05-10 19:23:33.518441+00:00 to 2023-05-20 19:23:33.518441+00:00\n",
      "Getting candles from 2023-04-30 19:23:33.518441+00:00 to 2023-05-10 19:23:33.518441+00:00\n",
      "Getting candles from 2023-04-20 19:23:33.518441+00:00 to 2023-04-30 19:23:33.518441+00:00\n",
      "Getting candles from 2023-04-10 19:23:33.518441+00:00 to 2023-04-20 19:23:33.518441+00:00\n",
      "Getting candles from 2023-03-31 19:23:33.518441+00:00 to 2023-04-10 19:23:33.518441+00:00\n",
      "Getting candles from 2023-03-21 19:23:33.518441+00:00 to 2023-03-31 19:23:33.518441+00:00\n",
      "Getting candles from 2023-03-11 19:23:33.518441+00:00 to 2023-03-21 19:23:33.518441+00:00\n",
      "Getting candles from 2023-03-01 19:23:33.518441+00:00 to 2023-03-11 19:23:33.518441+00:00\n",
      "Getting candles from 2023-02-19 19:23:33.518441+00:00 to 2023-03-01 19:23:33.518441+00:00\n",
      "Getting candles from 2023-02-09 19:23:33.518441+00:00 to 2023-02-19 19:23:33.518441+00:00\n",
      "Getting candles from 2023-01-30 19:23:33.518441+00:00 to 2023-02-09 19:23:33.518441+00:00\n",
      "Getting candles from 2023-01-20 19:23:33.518441+00:00 to 2023-01-30 19:23:33.518441+00:00\n",
      "Getting candles from 2023-01-10 19:23:33.518441+00:00 to 2023-01-20 19:23:33.518441+00:00\n",
      "Getting candles from 2022-12-31 19:23:33.518441+00:00 to 2023-01-10 19:23:33.518441+00:00\n",
      "Getting candles from 2022-12-21 19:23:33.518441+00:00 to 2022-12-31 19:23:33.518441+00:00\n",
      "Getting candles from 2022-12-11 19:23:33.518441+00:00 to 2022-12-21 19:23:33.518441+00:00\n",
      "Getting candles from 2022-12-01 19:23:33.518441+00:00 to 2022-12-11 19:23:33.518441+00:00\n",
      "Getting candles from 2022-11-21 19:23:33.518441+00:00 to 2022-12-01 19:23:33.518441+00:00\n",
      "Getting candles from 2022-11-11 19:23:33.518441+00:00 to 2022-11-21 19:23:33.518441+00:00\n",
      "Getting candles from 2022-11-01 19:23:33.518441+00:00 to 2022-11-11 19:23:33.518441+00:00\n",
      "Getting candles from 2022-10-22 19:23:33.518441+00:00 to 2022-11-01 19:23:33.518441+00:00\n",
      "Getting candles from 2022-10-12 19:23:33.518441+00:00 to 2022-10-22 19:23:33.518441+00:00\n",
      "Getting candles from 2022-10-02 19:23:33.518441+00:00 to 2022-10-12 19:23:33.518441+00:00\n",
      "Getting candles from 2022-09-22 19:23:33.518441+00:00 to 2022-10-02 19:23:33.518441+00:00\n",
      "Getting candles from 2022-09-12 19:23:33.518441+00:00 to 2022-09-22 19:23:33.518441+00:00\n",
      "Getting candles from 2022-09-02 19:23:33.518441+00:00 to 2022-09-12 19:23:33.518441+00:00\n",
      "Getting candles from 2022-08-23 19:23:33.518441+00:00 to 2022-09-02 19:23:33.518441+00:00\n",
      "Getting candles from 2022-08-13 19:23:33.518441+00:00 to 2022-08-23 19:23:33.518441+00:00\n",
      "Getting candles from 2022-08-03 19:23:33.518441+00:00 to 2022-08-13 19:23:33.518441+00:00\n",
      "Getting candles from 2022-07-24 19:23:33.518441+00:00 to 2022-08-03 19:23:33.518441+00:00\n",
      "Getting candles from 2022-07-14 19:23:33.518441+00:00 to 2022-07-24 19:23:33.518441+00:00\n",
      "Getting candles from 2022-07-04 19:23:33.518441+00:00 to 2022-07-14 19:23:33.518441+00:00\n",
      "Getting candles from 2022-06-24 19:23:33.518441+00:00 to 2022-07-04 19:23:33.518441+00:00\n",
      "Getting candles from 2022-06-14 19:23:33.518441+00:00 to 2022-06-24 19:23:33.518441+00:00\n",
      "Getting candles from 2022-06-04 19:23:33.518441+00:00 to 2022-06-14 19:23:33.518441+00:00\n",
      "Getting candles from 2022-05-25 19:23:33.518441+00:00 to 2022-06-04 19:23:33.518441+00:00\n",
      "Getting candles from 2022-05-15 19:23:33.518441+00:00 to 2022-05-25 19:23:33.518441+00:00\n"
     ]
    }
   ],
   "execution_count": 5
  },
  {
   "metadata": {},
   "cell_type": "code",
   "outputs": [],
   "execution_count": null,
   "source": "",
   "id": "e6b97fc7dfe5396a"
  }
 ],
 "metadata": {
  "kernelspec": {
   "display_name": "Python 3",
   "language": "python",
   "name": "python3"
  },
  "language_info": {
   "codemirror_mode": {
    "name": "ipython",
    "version": 2
   },
   "file_extension": ".py",
   "mimetype": "text/x-python",
   "name": "python",
   "nbconvert_exporter": "python",
   "pygments_lexer": "ipython2",
   "version": "2.7.6"
  }
 },
 "nbformat": 4,
 "nbformat_minor": 5
}

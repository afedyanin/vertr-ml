{
 "cells": [
  {
   "cell_type": "code",
   "id": "initial_id",
   "metadata": {
    "collapsed": true,
    "ExecuteTime": {
     "end_time": "2025-02-06T11:14:40.725888Z",
     "start_time": "2025-02-06T11:14:39.941706Z"
    }
   },
   "source": [
    "from app.configuration.config import TinvestSettings, PgSqlSettings\n",
    "from datetime import datetime, timezone, timedelta\n",
    "\n",
    "from app.models.data.candle import Interval\n",
    "from app.repositories.tinvest_candles import TinvestCandlesRepository\n",
    "from app.services.tinvest import TinvestAdapter"
   ],
   "outputs": [],
   "execution_count": 1
  },
  {
   "metadata": {
    "ExecuteTime": {
     "end_time": "2025-02-06T11:15:36.644399Z",
     "start_time": "2025-02-06T11:15:36.607342Z"
    }
   },
   "cell_type": "code",
   "source": [
    "tinvest_config = TinvestSettings(_env_file='../app/.env')\n",
    "tinvest = TinvestAdapter(tinvest_config)\n",
    "\n",
    "sql_config = PgSqlSettings(_env_file='../app/.env')\n",
    "candles_repo = TinvestCandlesRepository(sql_config)\n"
   ],
   "id": "cc56b48a9baa9333",
   "outputs": [],
   "execution_count": 2
  },
  {
   "metadata": {
    "ExecuteTime": {
     "end_time": "2025-02-06T11:17:46.525187Z",
     "start_time": "2025-02-06T11:15:38.054484Z"
    }
   },
   "cell_type": "code",
   "source": [
    "symbol = tinvest.get_instrument(ticker=\"SBER\", class_code=\"TQBR\")\n",
    "instrument_id=symbol.uid,\n",
    "\n",
    "end_date_utc = datetime.now(timezone.utc)    \n",
    "\n",
    "for i in range(100):\n",
    "    start_date_utc = end_date_utc - timedelta(days=10)\n",
    "    print(f\"Getting candles from {start_date_utc} to {end_date_utc}\")\n",
    "    candles = tinvest.get_candles(\n",
    "        instrument_id=symbol.uid,\n",
    "        start_date_utc=start_date_utc,\n",
    "        end_date_utc=end_date_utc,\n",
    "        interval=Interval.CANDLE_INTERVAL_10_MIN)\n",
    "    candles_repo.insert_candles(\"SBER\", Interval.CANDLE_INTERVAL_10_MIN.value, candles)\n",
    "    end_date_utc = start_date_utc\n"
   ],
   "id": "9d2f3074ec16818f",
   "outputs": [
    {
     "name": "stdout",
     "output_type": "stream",
     "text": [
      "Getting candles from 2025-01-27 11:15:38.428486+00:00 to 2025-02-06 11:15:38.428486+00:00\n",
      "Getting candles from 2025-01-17 11:15:38.428486+00:00 to 2025-01-27 11:15:38.428486+00:00\n",
      "Getting candles from 2025-01-07 11:15:38.428486+00:00 to 2025-01-17 11:15:38.428486+00:00\n",
      "Getting candles from 2024-12-28 11:15:38.428486+00:00 to 2025-01-07 11:15:38.428486+00:00\n",
      "Getting candles from 2024-12-18 11:15:38.428486+00:00 to 2024-12-28 11:15:38.428486+00:00\n",
      "Getting candles from 2024-12-08 11:15:38.428486+00:00 to 2024-12-18 11:15:38.428486+00:00\n",
      "Getting candles from 2024-11-28 11:15:38.428486+00:00 to 2024-12-08 11:15:38.428486+00:00\n",
      "Getting candles from 2024-11-18 11:15:38.428486+00:00 to 2024-11-28 11:15:38.428486+00:00\n",
      "Getting candles from 2024-11-08 11:15:38.428486+00:00 to 2024-11-18 11:15:38.428486+00:00\n",
      "Getting candles from 2024-10-29 11:15:38.428486+00:00 to 2024-11-08 11:15:38.428486+00:00\n",
      "Getting candles from 2024-10-19 11:15:38.428486+00:00 to 2024-10-29 11:15:38.428486+00:00\n",
      "Getting candles from 2024-10-09 11:15:38.428486+00:00 to 2024-10-19 11:15:38.428486+00:00\n",
      "Getting candles from 2024-09-29 11:15:38.428486+00:00 to 2024-10-09 11:15:38.428486+00:00\n",
      "Getting candles from 2024-09-19 11:15:38.428486+00:00 to 2024-09-29 11:15:38.428486+00:00\n",
      "Getting candles from 2024-09-09 11:15:38.428486+00:00 to 2024-09-19 11:15:38.428486+00:00\n",
      "Getting candles from 2024-08-30 11:15:38.428486+00:00 to 2024-09-09 11:15:38.428486+00:00\n",
      "Getting candles from 2024-08-20 11:15:38.428486+00:00 to 2024-08-30 11:15:38.428486+00:00\n",
      "Getting candles from 2024-08-10 11:15:38.428486+00:00 to 2024-08-20 11:15:38.428486+00:00\n",
      "Getting candles from 2024-07-31 11:15:38.428486+00:00 to 2024-08-10 11:15:38.428486+00:00\n",
      "Getting candles from 2024-07-21 11:15:38.428486+00:00 to 2024-07-31 11:15:38.428486+00:00\n",
      "Getting candles from 2024-07-11 11:15:38.428486+00:00 to 2024-07-21 11:15:38.428486+00:00\n",
      "Getting candles from 2024-07-01 11:15:38.428486+00:00 to 2024-07-11 11:15:38.428486+00:00\n",
      "Getting candles from 2024-06-21 11:15:38.428486+00:00 to 2024-07-01 11:15:38.428486+00:00\n",
      "Getting candles from 2024-06-11 11:15:38.428486+00:00 to 2024-06-21 11:15:38.428486+00:00\n",
      "Getting candles from 2024-06-01 11:15:38.428486+00:00 to 2024-06-11 11:15:38.428486+00:00\n",
      "Getting candles from 2024-05-22 11:15:38.428486+00:00 to 2024-06-01 11:15:38.428486+00:00\n",
      "Getting candles from 2024-05-12 11:15:38.428486+00:00 to 2024-05-22 11:15:38.428486+00:00\n",
      "Getting candles from 2024-05-02 11:15:38.428486+00:00 to 2024-05-12 11:15:38.428486+00:00\n",
      "Getting candles from 2024-04-22 11:15:38.428486+00:00 to 2024-05-02 11:15:38.428486+00:00\n",
      "Getting candles from 2024-04-12 11:15:38.428486+00:00 to 2024-04-22 11:15:38.428486+00:00\n",
      "Getting candles from 2024-04-02 11:15:38.428486+00:00 to 2024-04-12 11:15:38.428486+00:00\n",
      "Getting candles from 2024-03-23 11:15:38.428486+00:00 to 2024-04-02 11:15:38.428486+00:00\n",
      "Getting candles from 2024-03-13 11:15:38.428486+00:00 to 2024-03-23 11:15:38.428486+00:00\n",
      "Getting candles from 2024-03-03 11:15:38.428486+00:00 to 2024-03-13 11:15:38.428486+00:00\n",
      "Getting candles from 2024-02-22 11:15:38.428486+00:00 to 2024-03-03 11:15:38.428486+00:00\n",
      "Getting candles from 2024-02-12 11:15:38.428486+00:00 to 2024-02-22 11:15:38.428486+00:00\n",
      "Getting candles from 2024-02-02 11:15:38.428486+00:00 to 2024-02-12 11:15:38.428486+00:00\n",
      "Getting candles from 2024-01-23 11:15:38.428486+00:00 to 2024-02-02 11:15:38.428486+00:00\n",
      "Getting candles from 2024-01-13 11:15:38.428486+00:00 to 2024-01-23 11:15:38.428486+00:00\n",
      "Getting candles from 2024-01-03 11:15:38.428486+00:00 to 2024-01-13 11:15:38.428486+00:00\n",
      "Getting candles from 2023-12-24 11:15:38.428486+00:00 to 2024-01-03 11:15:38.428486+00:00\n",
      "Getting candles from 2023-12-14 11:15:38.428486+00:00 to 2023-12-24 11:15:38.428486+00:00\n",
      "Getting candles from 2023-12-04 11:15:38.428486+00:00 to 2023-12-14 11:15:38.428486+00:00\n",
      "Getting candles from 2023-11-24 11:15:38.428486+00:00 to 2023-12-04 11:15:38.428486+00:00\n",
      "Getting candles from 2023-11-14 11:15:38.428486+00:00 to 2023-11-24 11:15:38.428486+00:00\n",
      "Getting candles from 2023-11-04 11:15:38.428486+00:00 to 2023-11-14 11:15:38.428486+00:00\n",
      "Getting candles from 2023-10-25 11:15:38.428486+00:00 to 2023-11-04 11:15:38.428486+00:00\n",
      "Getting candles from 2023-10-15 11:15:38.428486+00:00 to 2023-10-25 11:15:38.428486+00:00\n",
      "Getting candles from 2023-10-05 11:15:38.428486+00:00 to 2023-10-15 11:15:38.428486+00:00\n",
      "Getting candles from 2023-09-25 11:15:38.428486+00:00 to 2023-10-05 11:15:38.428486+00:00\n",
      "Getting candles from 2023-09-15 11:15:38.428486+00:00 to 2023-09-25 11:15:38.428486+00:00\n",
      "Getting candles from 2023-09-05 11:15:38.428486+00:00 to 2023-09-15 11:15:38.428486+00:00\n",
      "Getting candles from 2023-08-26 11:15:38.428486+00:00 to 2023-09-05 11:15:38.428486+00:00\n",
      "Getting candles from 2023-08-16 11:15:38.428486+00:00 to 2023-08-26 11:15:38.428486+00:00\n",
      "Getting candles from 2023-08-06 11:15:38.428486+00:00 to 2023-08-16 11:15:38.428486+00:00\n",
      "Getting candles from 2023-07-27 11:15:38.428486+00:00 to 2023-08-06 11:15:38.428486+00:00\n",
      "Getting candles from 2023-07-17 11:15:38.428486+00:00 to 2023-07-27 11:15:38.428486+00:00\n",
      "Getting candles from 2023-07-07 11:15:38.428486+00:00 to 2023-07-17 11:15:38.428486+00:00\n",
      "Getting candles from 2023-06-27 11:15:38.428486+00:00 to 2023-07-07 11:15:38.428486+00:00\n",
      "Getting candles from 2023-06-17 11:15:38.428486+00:00 to 2023-06-27 11:15:38.428486+00:00\n",
      "Getting candles from 2023-06-07 11:15:38.428486+00:00 to 2023-06-17 11:15:38.428486+00:00\n",
      "Getting candles from 2023-05-28 11:15:38.428486+00:00 to 2023-06-07 11:15:38.428486+00:00\n",
      "Getting candles from 2023-05-18 11:15:38.428486+00:00 to 2023-05-28 11:15:38.428486+00:00\n",
      "Getting candles from 2023-05-08 11:15:38.428486+00:00 to 2023-05-18 11:15:38.428486+00:00\n",
      "Getting candles from 2023-04-28 11:15:38.428486+00:00 to 2023-05-08 11:15:38.428486+00:00\n",
      "Getting candles from 2023-04-18 11:15:38.428486+00:00 to 2023-04-28 11:15:38.428486+00:00\n",
      "Getting candles from 2023-04-08 11:15:38.428486+00:00 to 2023-04-18 11:15:38.428486+00:00\n",
      "Getting candles from 2023-03-29 11:15:38.428486+00:00 to 2023-04-08 11:15:38.428486+00:00\n",
      "Getting candles from 2023-03-19 11:15:38.428486+00:00 to 2023-03-29 11:15:38.428486+00:00\n",
      "Getting candles from 2023-03-09 11:15:38.428486+00:00 to 2023-03-19 11:15:38.428486+00:00\n",
      "Getting candles from 2023-02-27 11:15:38.428486+00:00 to 2023-03-09 11:15:38.428486+00:00\n",
      "Getting candles from 2023-02-17 11:15:38.428486+00:00 to 2023-02-27 11:15:38.428486+00:00\n",
      "Getting candles from 2023-02-07 11:15:38.428486+00:00 to 2023-02-17 11:15:38.428486+00:00\n",
      "Getting candles from 2023-01-28 11:15:38.428486+00:00 to 2023-02-07 11:15:38.428486+00:00\n",
      "Getting candles from 2023-01-18 11:15:38.428486+00:00 to 2023-01-28 11:15:38.428486+00:00\n",
      "Getting candles from 2023-01-08 11:15:38.428486+00:00 to 2023-01-18 11:15:38.428486+00:00\n",
      "Getting candles from 2022-12-29 11:15:38.428486+00:00 to 2023-01-08 11:15:38.428486+00:00\n",
      "Getting candles from 2022-12-19 11:15:38.428486+00:00 to 2022-12-29 11:15:38.428486+00:00\n",
      "Getting candles from 2022-12-09 11:15:38.428486+00:00 to 2022-12-19 11:15:38.428486+00:00\n",
      "Getting candles from 2022-11-29 11:15:38.428486+00:00 to 2022-12-09 11:15:38.428486+00:00\n",
      "Getting candles from 2022-11-19 11:15:38.428486+00:00 to 2022-11-29 11:15:38.428486+00:00\n",
      "Getting candles from 2022-11-09 11:15:38.428486+00:00 to 2022-11-19 11:15:38.428486+00:00\n",
      "Getting candles from 2022-10-30 11:15:38.428486+00:00 to 2022-11-09 11:15:38.428486+00:00\n",
      "Getting candles from 2022-10-20 11:15:38.428486+00:00 to 2022-10-30 11:15:38.428486+00:00\n",
      "Getting candles from 2022-10-10 11:15:38.428486+00:00 to 2022-10-20 11:15:38.428486+00:00\n",
      "Getting candles from 2022-09-30 11:15:38.428486+00:00 to 2022-10-10 11:15:38.428486+00:00\n",
      "Getting candles from 2022-09-20 11:15:38.428486+00:00 to 2022-09-30 11:15:38.428486+00:00\n",
      "Getting candles from 2022-09-10 11:15:38.428486+00:00 to 2022-09-20 11:15:38.428486+00:00\n",
      "Getting candles from 2022-08-31 11:15:38.428486+00:00 to 2022-09-10 11:15:38.428486+00:00\n",
      "Getting candles from 2022-08-21 11:15:38.428486+00:00 to 2022-08-31 11:15:38.428486+00:00\n",
      "Getting candles from 2022-08-11 11:15:38.428486+00:00 to 2022-08-21 11:15:38.428486+00:00\n",
      "Getting candles from 2022-08-01 11:15:38.428486+00:00 to 2022-08-11 11:15:38.428486+00:00\n",
      "Getting candles from 2022-07-22 11:15:38.428486+00:00 to 2022-08-01 11:15:38.428486+00:00\n",
      "Getting candles from 2022-07-12 11:15:38.428486+00:00 to 2022-07-22 11:15:38.428486+00:00\n",
      "Getting candles from 2022-07-02 11:15:38.428486+00:00 to 2022-07-12 11:15:38.428486+00:00\n",
      "Getting candles from 2022-06-22 11:15:38.428486+00:00 to 2022-07-02 11:15:38.428486+00:00\n",
      "Getting candles from 2022-06-12 11:15:38.428486+00:00 to 2022-06-22 11:15:38.428486+00:00\n",
      "Getting candles from 2022-06-02 11:15:38.428486+00:00 to 2022-06-12 11:15:38.428486+00:00\n",
      "Getting candles from 2022-05-23 11:15:38.428486+00:00 to 2022-06-02 11:15:38.428486+00:00\n",
      "Getting candles from 2022-05-13 11:15:38.428486+00:00 to 2022-05-23 11:15:38.428486+00:00\n"
     ]
    }
   ],
   "execution_count": 3
  },
  {
   "metadata": {},
   "cell_type": "code",
   "outputs": [],
   "execution_count": null,
   "source": "",
   "id": "e6b97fc7dfe5396a"
  }
 ],
 "metadata": {
  "kernelspec": {
   "display_name": "Python 3",
   "language": "python",
   "name": "python3"
  },
  "language_info": {
   "codemirror_mode": {
    "name": "ipython",
    "version": 2
   },
   "file_extension": ".py",
   "mimetype": "text/x-python",
   "name": "python",
   "nbconvert_exporter": "python",
   "pygments_lexer": "ipython2",
   "version": "2.7.6"
  }
 },
 "nbformat": 4,
 "nbformat_minor": 5
}

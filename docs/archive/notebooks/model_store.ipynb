{
 "cells": [
  {
   "cell_type": "code",
   "id": "initial_id",
   "metadata": {
    "collapsed": true,
    "ExecuteTime": {
     "end_time": "2025-02-06T12:16:22.479550Z",
     "start_time": "2025-02-06T12:16:18.397537Z"
    }
   },
   "source": [
    "from app.repositories.sb3_models import Sb3ModelsRepository\n",
    "from app.configuration.config import PgSqlSettings\n",
    "import io\n",
    "from typing import Dict, Type\n",
    "\n",
    "from sb3_contrib import ARS, QRDQN, TQC, TRPO, RecurrentPPO\n",
    "from stable_baselines3 import A2C, DDPG, DQN, PPO, SAC, TD3\n",
    "from stable_baselines3.common.base_class import BaseAlgorithm\n",
    "\n",
    "sql_config = PgSqlSettings(_env_file='../app/.env')\n",
    "models_repo = Sb3ModelsRepository(sql_config)"
   ],
   "outputs": [],
   "execution_count": 1
  },
  {
   "metadata": {
    "ExecuteTime": {
     "end_time": "2025-02-06T12:16:24.651270Z",
     "start_time": "2025-02-06T12:16:24.648538Z"
    }
   },
   "cell_type": "code",
   "source": [
    "ALGOS: Dict[str, Type[BaseAlgorithm]] = {\n",
    "    \"a2c\": A2C,\n",
    "    \"ddpg\": DDPG,\n",
    "    \"dqn\": DQN,\n",
    "    \"ppo\": PPO,\n",
    "    \"sac\": SAC,\n",
    "    \"td3\": TD3,\n",
    "    # SB3 Contrib,\n",
    "    \"ars\": ARS,\n",
    "    \"qrdqn\": QRDQN,\n",
    "    \"tqc\": TQC,\n",
    "    \"trpo\": TRPO,\n",
    "    \"ppo_lstm\": RecurrentPPO,\n",
    "}\n"
   ],
   "id": "57ad120d8609234c",
   "outputs": [],
   "execution_count": 2
  },
  {
   "metadata": {
    "ExecuteTime": {
     "end_time": "2025-02-06T12:16:25.568115Z",
     "start_time": "2025-02-06T12:16:25.528797Z"
    }
   },
   "cell_type": "code",
   "source": [
    "file_name = \"dqn_model.zip\"\n",
    "algo = \"dqn\"\n",
    "\n",
    "version = models_repo.get_last_version(file_name)\n",
    "print(version)\n"
   ],
   "id": "ffb219f5223780f6",
   "outputs": [
    {
     "name": "stdout",
     "output_type": "stream",
     "text": [
      "1\n"
     ]
    }
   ],
   "execution_count": 3
  },
  {
   "metadata": {
    "ExecuteTime": {
     "end_time": "2025-02-06T12:16:27.537475Z",
     "start_time": "2025-02-06T12:16:27.511327Z"
    }
   },
   "cell_type": "code",
   "source": [
    "last_model = models_repo.get_model_by_file_name(file_name)\n",
    "print(last_model.version)"
   ],
   "id": "2aacb2d64b9cb5af",
   "outputs": [
    {
     "name": "stdout",
     "output_type": "stream",
     "text": [
      "1\n"
     ]
    }
   ],
   "execution_count": 4
  },
  {
   "metadata": {
    "ExecuteTime": {
     "end_time": "2025-02-06T12:16:29.581687Z",
     "start_time": "2025-02-06T12:16:28.794226Z"
    }
   },
   "cell_type": "code",
   "source": [
    "fio = io.BytesIO(last_model.content)\n",
    "model = ALGOS[last_model.algo].load(fio)\n",
    "\n",
    "model.action_space"
   ],
   "id": "73843dc095fa442d",
   "outputs": [
    {
     "data": {
      "text/plain": [
       "Discrete(3)"
      ]
     },
     "execution_count": 5,
     "metadata": {},
     "output_type": "execute_result"
    }
   ],
   "execution_count": 5
  },
  {
   "metadata": {},
   "cell_type": "code",
   "outputs": [],
   "execution_count": null,
   "source": "",
   "id": "6ef1674367579c7c"
  }
 ],
 "metadata": {
  "kernelspec": {
   "display_name": "Python 3",
   "language": "python",
   "name": "python3"
  },
  "language_info": {
   "codemirror_mode": {
    "name": "ipython",
    "version": 2
   },
   "file_extension": ".py",
   "mimetype": "text/x-python",
   "name": "python",
   "nbconvert_exporter": "python",
   "pygments_lexer": "ipython2",
   "version": "2.7.6"
  }
 },
 "nbformat": 4,
 "nbformat_minor": 5
}
